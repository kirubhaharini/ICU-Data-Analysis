{
 "cells": [
  {
   "cell_type": "markdown",
   "id": "a9b0455a",
   "metadata": {},
   "source": [
    "# Imports"
   ]
  },
  {
   "cell_type": "code",
   "execution_count": 1,
   "id": "083efe84",
   "metadata": {},
   "outputs": [
    {
     "name": "stderr",
     "output_type": "stream",
     "text": [
      "C:\\Users\\Kirubha\\Anaconda3\\lib\\site-packages\\numpy\\_distributor_init.py:32: UserWarning: loaded more than 1 DLL from .libs:\n",
      "C:\\Users\\Kirubha\\Anaconda3\\lib\\site-packages\\numpy\\.libs\\libopenblas.WCDJNK7YVMPZQ2ME2ZZHJJRJ3JIKNDB7.gfortran-win_amd64.dll\n",
      "C:\\Users\\Kirubha\\Anaconda3\\lib\\site-packages\\numpy\\.libs\\libopenblas.XWYDX2IKJW2NMTWSFYNGFUWKQU3LYTCZ.gfortran-win_amd64.dll\n",
      "  stacklevel=1)\n"
     ]
    }
   ],
   "source": [
    "import pandas as pd\n",
    "import sqlite3\n",
    "import seaborn as sns\n",
    "sns.set_theme(style=\"whitegrid\")\n",
    "import matplotlib.pyplot as plt\n",
    "from sklearn.model_selection import train_test_split\n",
    "from sklearn.tree import DecisionTreeClassifier\n",
    "from sklearn.tree import export_graphviz\n",
    "import graphviz\n",
    "from sklearn.ensemble import RandomForestClassifier\n",
    "from sklearn.linear_model import LogisticRegression\n",
    "from sklearn.utils import resample\n",
    "from sklearn.metrics import accuracy_score, confusion_matrix, precision_score, recall_score, f1_score\n",
    "from sklearn.ensemble import RandomForestClassifier\n",
    "from sklearn.model_selection import train_test_split\n",
    "from sklearn.model_selection import GridSearchCV\n",
    "import random\n",
    "random.seed(2000) #for reproducibility"
   ]
  },
  {
   "cell_type": "markdown",
   "id": "1ffe49fd",
   "metadata": {},
   "source": [
    "# Reading DF"
   ]
  },
  {
   "cell_type": "code",
   "execution_count": 2,
   "id": "726ad9a8",
   "metadata": {},
   "outputs": [
    {
     "data": {
      "text/html": [
       "<div>\n",
       "<style scoped>\n",
       "    .dataframe tbody tr th:only-of-type {\n",
       "        vertical-align: middle;\n",
       "    }\n",
       "\n",
       "    .dataframe tbody tr th {\n",
       "        vertical-align: top;\n",
       "    }\n",
       "\n",
       "    .dataframe thead th {\n",
       "        text-align: right;\n",
       "    }\n",
       "</style>\n",
       "<table border=\"1\" class=\"dataframe\">\n",
       "  <thead>\n",
       "    <tr style=\"text-align: right;\">\n",
       "      <th></th>\n",
       "      <th>ID</th>\n",
       "      <th>Survive</th>\n",
       "      <th>Age</th>\n",
       "      <th>AgeGroup</th>\n",
       "      <th>Sex</th>\n",
       "      <th>Infection</th>\n",
       "      <th>SysBP</th>\n",
       "      <th>Pulse</th>\n",
       "      <th>Emergency</th>\n",
       "    </tr>\n",
       "  </thead>\n",
       "  <tbody>\n",
       "    <tr>\n",
       "      <th>0</th>\n",
       "      <td>4</td>\n",
       "      <td>0</td>\n",
       "      <td>87</td>\n",
       "      <td>3</td>\n",
       "      <td>1</td>\n",
       "      <td>1</td>\n",
       "      <td>80</td>\n",
       "      <td>96</td>\n",
       "      <td>1</td>\n",
       "    </tr>\n",
       "    <tr>\n",
       "      <th>1</th>\n",
       "      <td>8</td>\n",
       "      <td>1</td>\n",
       "      <td>27</td>\n",
       "      <td>1</td>\n",
       "      <td>1</td>\n",
       "      <td>1</td>\n",
       "      <td>142</td>\n",
       "      <td>88</td>\n",
       "      <td>1</td>\n",
       "    </tr>\n",
       "    <tr>\n",
       "      <th>2</th>\n",
       "      <td>12</td>\n",
       "      <td>1</td>\n",
       "      <td>59</td>\n",
       "      <td>2</td>\n",
       "      <td>0</td>\n",
       "      <td>0</td>\n",
       "      <td>112</td>\n",
       "      <td>80</td>\n",
       "      <td>1</td>\n",
       "    </tr>\n",
       "    <tr>\n",
       "      <th>3</th>\n",
       "      <td>14</td>\n",
       "      <td>1</td>\n",
       "      <td>77</td>\n",
       "      <td>3</td>\n",
       "      <td>0</td>\n",
       "      <td>0</td>\n",
       "      <td>100</td>\n",
       "      <td>70</td>\n",
       "      <td>0</td>\n",
       "    </tr>\n",
       "    <tr>\n",
       "      <th>4</th>\n",
       "      <td>27</td>\n",
       "      <td>0</td>\n",
       "      <td>76</td>\n",
       "      <td>3</td>\n",
       "      <td>1</td>\n",
       "      <td>1</td>\n",
       "      <td>128</td>\n",
       "      <td>90</td>\n",
       "      <td>1</td>\n",
       "    </tr>\n",
       "  </tbody>\n",
       "</table>\n",
       "</div>"
      ],
      "text/plain": [
       "   ID  Survive  Age  AgeGroup  Sex  Infection  SysBP  Pulse  Emergency\n",
       "0   4        0   87         3    1          1     80     96          1\n",
       "1   8        1   27         1    1          1    142     88          1\n",
       "2  12        1   59         2    0          0    112     80          1\n",
       "3  14        1   77         3    0          0    100     70          0\n",
       "4  27        0   76         3    1          1    128     90          1"
      ]
     },
     "execution_count": 2,
     "metadata": {},
     "output_type": "execute_result"
    }
   ],
   "source": [
    "df = pd.read_csv(\"C:\\\\Users\\\\Kirubha\\\\Desktop\\\\ICU.csv\")\n",
    "del df['Unnamed: 0']\n",
    "df.head(5)"
   ]
  },
  {
   "cell_type": "code",
   "execution_count": 3,
   "id": "a959267a",
   "metadata": {},
   "outputs": [
    {
     "data": {
      "text/plain": [
       "ID           False\n",
       "Survive      False\n",
       "Age          False\n",
       "AgeGroup     False\n",
       "Sex          False\n",
       "Infection    False\n",
       "SysBP        False\n",
       "Pulse        False\n",
       "Emergency    False\n",
       "dtype: bool"
      ]
     },
     "execution_count": 3,
     "metadata": {},
     "output_type": "execute_result"
    }
   ],
   "source": [
    "df.isna().any() #no null values"
   ]
  },
  {
   "cell_type": "code",
   "execution_count": 4,
   "id": "9087b628",
   "metadata": {},
   "outputs": [
    {
     "data": {
      "text/plain": [
       "False"
      ]
     },
     "execution_count": 4,
     "metadata": {},
     "output_type": "execute_result"
    }
   ],
   "source": [
    "df.duplicated().any() #no duplicates"
   ]
  },
  {
   "cell_type": "code",
   "execution_count": 5,
   "id": "ca79a052",
   "metadata": {},
   "outputs": [
    {
     "name": "stdout",
     "output_type": "stream",
     "text": [
      "<class 'pandas.core.frame.DataFrame'>\n",
      "RangeIndex: 200 entries, 0 to 199\n",
      "Data columns (total 9 columns):\n",
      " #   Column     Non-Null Count  Dtype\n",
      "---  ------     --------------  -----\n",
      " 0   ID         200 non-null    int64\n",
      " 1   Survive    200 non-null    int64\n",
      " 2   Age        200 non-null    int64\n",
      " 3   AgeGroup   200 non-null    int64\n",
      " 4   Sex        200 non-null    int64\n",
      " 5   Infection  200 non-null    int64\n",
      " 6   SysBP      200 non-null    int64\n",
      " 7   Pulse      200 non-null    int64\n",
      " 8   Emergency  200 non-null    int64\n",
      "dtypes: int64(9)\n",
      "memory usage: 14.2 KB\n"
     ]
    }
   ],
   "source": [
    "df.info()"
   ]
  },
  {
   "cell_type": "code",
   "execution_count": 6,
   "id": "e3e17e7a",
   "metadata": {},
   "outputs": [
    {
     "name": "stdout",
     "output_type": "stream",
     "text": [
      "16 49\n",
      "50 69\n",
      "70 92\n"
     ]
    }
   ],
   "source": [
    "#to find out what each categories age ranges are\n",
    "agegrp1 = sorted(df[df['AgeGroup']==1]['Age'].values) #16-49 : Below 50\n",
    "print(min(agegrp1),max(agegrp1))\n",
    "agegrp2 = sorted(df[df['AgeGroup']==2]['Age'].values) #50-69 : 50-69\n",
    "print(min(agegrp2),max(agegrp2))\n",
    "agegrp3 = sorted(df[df['AgeGroup']==3]['Age'].values) #70-92 : 70 and above\n",
    "print(min(agegrp3),max(agegrp3))"
   ]
  },
  {
   "cell_type": "code",
   "execution_count": 7,
   "id": "be0858be",
   "metadata": {},
   "outputs": [
    {
     "data": {
      "text/html": [
       "<div>\n",
       "<style scoped>\n",
       "    .dataframe tbody tr th:only-of-type {\n",
       "        vertical-align: middle;\n",
       "    }\n",
       "\n",
       "    .dataframe tbody tr th {\n",
       "        vertical-align: top;\n",
       "    }\n",
       "\n",
       "    .dataframe thead th {\n",
       "        text-align: right;\n",
       "    }\n",
       "</style>\n",
       "<table border=\"1\" class=\"dataframe\">\n",
       "  <thead>\n",
       "    <tr style=\"text-align: right;\">\n",
       "      <th></th>\n",
       "      <th>Age</th>\n",
       "      <th>SysBP</th>\n",
       "      <th>Pulse</th>\n",
       "    </tr>\n",
       "  </thead>\n",
       "  <tbody>\n",
       "    <tr>\n",
       "      <th>count</th>\n",
       "      <td>200.000000</td>\n",
       "      <td>200.000000</td>\n",
       "      <td>200.00000</td>\n",
       "    </tr>\n",
       "    <tr>\n",
       "      <th>mean</th>\n",
       "      <td>57.545000</td>\n",
       "      <td>132.280000</td>\n",
       "      <td>98.92500</td>\n",
       "    </tr>\n",
       "    <tr>\n",
       "      <th>std</th>\n",
       "      <td>20.054648</td>\n",
       "      <td>32.952099</td>\n",
       "      <td>26.82962</td>\n",
       "    </tr>\n",
       "    <tr>\n",
       "      <th>min</th>\n",
       "      <td>16.000000</td>\n",
       "      <td>36.000000</td>\n",
       "      <td>39.00000</td>\n",
       "    </tr>\n",
       "    <tr>\n",
       "      <th>25%</th>\n",
       "      <td>46.750000</td>\n",
       "      <td>110.000000</td>\n",
       "      <td>80.00000</td>\n",
       "    </tr>\n",
       "    <tr>\n",
       "      <th>50%</th>\n",
       "      <td>63.000000</td>\n",
       "      <td>130.000000</td>\n",
       "      <td>96.00000</td>\n",
       "    </tr>\n",
       "    <tr>\n",
       "      <th>75%</th>\n",
       "      <td>72.000000</td>\n",
       "      <td>150.000000</td>\n",
       "      <td>118.25000</td>\n",
       "    </tr>\n",
       "    <tr>\n",
       "      <th>max</th>\n",
       "      <td>92.000000</td>\n",
       "      <td>256.000000</td>\n",
       "      <td>192.00000</td>\n",
       "    </tr>\n",
       "  </tbody>\n",
       "</table>\n",
       "</div>"
      ],
      "text/plain": [
       "              Age       SysBP      Pulse\n",
       "count  200.000000  200.000000  200.00000\n",
       "mean    57.545000  132.280000   98.92500\n",
       "std     20.054648   32.952099   26.82962\n",
       "min     16.000000   36.000000   39.00000\n",
       "25%     46.750000  110.000000   80.00000\n",
       "50%     63.000000  130.000000   96.00000\n",
       "75%     72.000000  150.000000  118.25000\n",
       "max     92.000000  256.000000  192.00000"
      ]
     },
     "execution_count": 7,
     "metadata": {},
     "output_type": "execute_result"
    }
   ],
   "source": [
    "numDF = df[['Age','SysBP','Pulse']] #no abnormal values (e.g. negative values)\n",
    "numDF.describe() "
   ]
  },
  {
   "cell_type": "code",
   "execution_count": 8,
   "id": "5b8e5738",
   "metadata": {},
   "outputs": [
    {
     "name": "stdout",
     "output_type": "stream",
     "text": [
      "ID : False\n",
      "Survive : True\n",
      "Age : True\n",
      "AgeGroup : True\n",
      "Sex : True\n",
      "Infection : True\n",
      "SysBP : True\n",
      "Pulse : True\n",
      "Emergency : True\n"
     ]
    }
   ],
   "source": [
    "for col in df.columns:\n",
    "    print(col,':',df[col].duplicated().any()) #All except ID has duplicates --> ID is unique key"
   ]
  },
  {
   "cell_type": "markdown",
   "id": "42de7297",
   "metadata": {},
   "source": [
    "# SQLite Connection"
   ]
  },
  {
   "cell_type": "code",
   "execution_count": 9,
   "id": "0996ec2b",
   "metadata": {},
   "outputs": [],
   "source": [
    "con = sqlite3.connect('icu.db')\n",
    "cursor = con.cursor()"
   ]
  },
  {
   "cell_type": "code",
   "execution_count": 10,
   "id": "b930a95f",
   "metadata": {},
   "outputs": [
    {
     "name": "stdout",
     "output_type": "stream",
     "text": [
      "[]\n"
     ]
    }
   ],
   "source": [
    "cursor.execute(\"SELECT name FROM sqlite_master WHERE type='table';\")\n",
    "db_tables= [x[0] for x in cursor.fetchall()] \n",
    "print(db_tables) #no tables currently"
   ]
  },
  {
   "cell_type": "markdown",
   "id": "00d12660",
   "metadata": {},
   "source": [
    "## Create Tables"
   ]
  },
  {
   "cell_type": "code",
   "execution_count": 11,
   "id": "01725b5f",
   "metadata": {},
   "outputs": [],
   "source": [
    "sql_commands = [    \n",
    "    \"\"\"\n",
    "    CREATE TABLE if not Exists age_groups (\n",
    "    age_group_id INTEGER PRIMARY KEY,\n",
    "    age_group_name TEXT\n",
    "    )\n",
    "    \"\"\",\n",
    "    \n",
    "    \"\"\"\n",
    "    CREATE TABLE if not Exists sexes (\n",
    "    sex_id INTEGER PRIMARY KEY,\n",
    "    sex_name TEXT\n",
    "    )\n",
    "    \"\"\",\n",
    "    \n",
    "    \"\"\" \n",
    "    CREATE TABLE if not Exists patients (\n",
    "    patient_id INTEGER PRIMARY KEY,\n",
    "    age INTEGER,\n",
    "    age_group_id INTEGER,\n",
    "    sex_id INTEGER,\n",
    "    FOREIGN KEY (age_group_id) REFERENCES age_groups (age_group_id),\n",
    "    FOREIGN KEY (sex_id) REFERENCES sexes (sex_id)\n",
    "    )\n",
    "    \"\"\",\n",
    "    \n",
    "    \"\"\"\n",
    "    CREATE TABLE if not Exists patient_visits (\n",
    "    patient_id INTEGER,\n",
    "    survive BOOLEAN,\n",
    "    infection BOOLEAN,\n",
    "    sys_bp INTEGER,\n",
    "    pulse INTEGER,\n",
    "    emergency BOOLEAN,\n",
    "    FOREIGN KEY (patient_id) REFERENCES patients (patient_id)\n",
    "    )\n",
    "    \"\"\"\n",
    "    \n",
    "    \n",
    "]\n",
    "\n",
    "for command in sql_commands:\n",
    "    cursor.execute(command)\n"
   ]
  },
  {
   "cell_type": "code",
   "execution_count": 12,
   "id": "e4290c3b",
   "metadata": {},
   "outputs": [
    {
     "name": "stdout",
     "output_type": "stream",
     "text": [
      "['age_groups', 'sexes', 'patients', 'patient_visits']\n"
     ]
    }
   ],
   "source": [
    "cursor.execute(\"SELECT name FROM sqlite_master WHERE type='table';\")\n",
    "db_tables= [x[0] for x in cursor.fetchall()] \n",
    "print(db_tables) # 4 tables added"
   ]
  },
  {
   "cell_type": "markdown",
   "id": "e9a2f749",
   "metadata": {},
   "source": [
    "## Insert Values"
   ]
  },
  {
   "cell_type": "code",
   "execution_count": 13,
   "id": "7ae4bbbd",
   "metadata": {},
   "outputs": [],
   "source": [
    "update_tables = [\n",
    "\"\"\"\n",
    "INSERT INTO age_groups (age_group_id, age_group_name)\n",
    "VALUES (1,'Below 50'), (2,'50-69'), (3,'70 and above')\n",
    "\"\"\",\n",
    "\"\"\"\n",
    "INSERT INTO sexes (sex_id, sex_name)\n",
    "VALUES (0,'Female'),(1,'Male')\n",
    "\"\"\"\n",
    "]\n",
    "\n",
    "\n",
    "for command in update_tables:\n",
    "    cursor.execute(command)"
   ]
  },
  {
   "cell_type": "code",
   "execution_count": 14,
   "id": "dbad635d",
   "metadata": {},
   "outputs": [
    {
     "data": {
      "text/plain": [
       "<sqlite3.Cursor at 0x1a569f869d0>"
      ]
     },
     "execution_count": 14,
     "metadata": {},
     "output_type": "execute_result"
    }
   ],
   "source": [
    "patient_values = ''\n",
    "for row in range(len(df)):\n",
    "    pid = df.loc[row,'ID']\n",
    "    age = df.loc[row,'Age']\n",
    "    agegrp = df.loc[row,'AgeGroup']\n",
    "    sex = df.loc[row,'Sex']\n",
    "    val = '('+str(pid)+','+str(age)+','+str(agegrp)+','+str(sex)+')'\n",
    "    if row!=(len(df)-1):\n",
    "        val+=', '\n",
    "    patient_values += val\n",
    "\n",
    "patient_command = \"\"\"\n",
    "INSERT INTO patients (patient_id,age,age_group_id,sex_id)\n",
    "VALUES \"\"\" + patient_values\n",
    "\n",
    "cursor.execute(patient_command)"
   ]
  },
  {
   "cell_type": "code",
   "execution_count": 15,
   "id": "c73b393b",
   "metadata": {},
   "outputs": [
    {
     "data": {
      "text/plain": [
       "<sqlite3.Cursor at 0x1a569f869d0>"
      ]
     },
     "execution_count": 15,
     "metadata": {},
     "output_type": "execute_result"
    }
   ],
   "source": [
    "visit_values = ''\n",
    "for row in range(len(df)):\n",
    "    pid = df.loc[row,'ID']\n",
    "    survive = df.loc[row,'Survive']\n",
    "    inf = df.loc[row,'Infection']\n",
    "    sysbp = df.loc[row,'SysBP']\n",
    "    pulse = df.loc[row,'Pulse']\n",
    "    ems = df.loc[row,'Emergency']\n",
    "    val = '('+str(pid)+','+str(survive)+','+str(inf)+','+str(sysbp)+','+str(pulse)+','+str(ems)+')'\n",
    "    if row!=(len(df)-1):\n",
    "        val+=', '\n",
    "    visit_values += val\n",
    "\n",
    "patient_visit_command = \"\"\"\n",
    "INSERT INTO patient_visits (patient_id,survive,infection,sys_bp,pulse,emergency)\n",
    "VALUES \"\"\" + visit_values\n",
    "\n",
    "cursor.execute(patient_visit_command)"
   ]
  },
  {
   "cell_type": "code",
   "execution_count": 16,
   "id": "99bfe2f6",
   "metadata": {},
   "outputs": [
    {
     "name": "stdout",
     "output_type": "stream",
     "text": [
      "['patient_id', 'survive', 'infection', 'sys_bp', 'pulse', 'emergency']\n"
     ]
    }
   ],
   "source": [
    "data=cursor.execute('SELECT * FROM ' +str(db_tables[3])) #just to check\n",
    "data_descr=[x[0] for x in data.description]\n",
    "print(data_descr)"
   ]
  },
  {
   "cell_type": "code",
   "execution_count": 17,
   "id": "854246fb",
   "metadata": {},
   "outputs": [],
   "source": [
    "con.commit() #to save\n",
    "con.close()"
   ]
  },
  {
   "cell_type": "markdown",
   "id": "ba2aa336",
   "metadata": {},
   "source": [
    "# Visualizations"
   ]
  },
  {
   "cell_type": "code",
   "execution_count": 18,
   "id": "c80ed49b",
   "metadata": {},
   "outputs": [],
   "source": [
    "conn = sqlite3.connect('icu.db')"
   ]
  },
  {
   "cell_type": "code",
   "execution_count": 19,
   "id": "f8d96ce3",
   "metadata": {},
   "outputs": [
    {
     "data": {
      "image/png": "[encoded data removed]",
      "text/plain": [
       "<Figure size 640x480 with 1 Axes>"
      ]
     },
     "metadata": {},
     "output_type": "display_data"
    }
   ],
   "source": [
    "# Histogram for distribution of ages \n",
    "age_df = pd.read_sql_query(\"SELECT age FROM patients\", conn)\n",
    "plt.hist(age_df)\n",
    "plt.xlabel('Age')\n",
    "plt.ylabel('Count')\n",
    "plt.show()"
   ]
  },
  {
   "cell_type": "markdown",
   "id": "13ee71e6",
   "metadata": {},
   "source": [
    "Most of them are in their 60s and 70s"
   ]
  },
  {
   "cell_type": "code",
   "execution_count": 20,
   "id": "65c98943",
   "metadata": {},
   "outputs": [
    {
     "data": {
      "text/plain": [
       "<AxesSubplot:>"
      ]
     },
     "execution_count": 20,
     "metadata": {},
     "output_type": "execute_result"
    },
    {
     "data": {
      "image/png": "[encoded data removed]",
      "text/plain": [
       "<Figure size 400x400 with 2 Axes>"
      ]
     },
     "metadata": {},
     "output_type": "display_data"
    }
   ],
   "source": [
    "# Heatmap for relationship between numeric attributes\n",
    "patient_data = pd.read_sql_query(\"SELECT age,sys_bp,pulse FROM patients p INNER JOIN patient_visits pv ON p.patient_id = pv.patient_id\", conn)\n",
    "f, axes = plt.subplots(1, 1, figsize=(4,4))\n",
    "sns.heatmap(patient_data[['age','sys_bp','pulse']].corr(), vmin = -1, vmax = 1, annot = True, fmt = \".2f\") "
   ]
  },
  {
   "cell_type": "markdown",
   "id": "c0051231",
   "metadata": {},
   "source": [
    "Weak relationship between these variables since the coefficients are all close to 0"
   ]
  },
  {
   "cell_type": "code",
   "execution_count": 21,
   "id": "f862df68",
   "metadata": {},
   "outputs": [
    {
     "data": {
      "image/png": "[encoded data removed]",
      "text/plain": [
       "<Figure size 640x480 with 1 Axes>"
      ]
     },
     "metadata": {},
     "output_type": "display_data"
    }
   ],
   "source": [
    "#Scatter plot for relationship between Pulse and Sys BP based on survival\n",
    "patient_data = pd.read_sql_query(\"SELECT sys_bp,pulse,survive FROM patients p INNER JOIN patient_visits pv ON p.patient_id = pv.patient_id\", conn)\n",
    "sns.scatterplot(x='sys_bp', y='pulse', hue='survive', data=patient_data)\n",
    "plt.xlabel('Systolic Blood Pressure')\n",
    "plt.ylabel('Pulse')\n",
    "plt.show()"
   ]
  },
  {
   "cell_type": "markdown",
   "id": "bb79695a",
   "metadata": {},
   "source": [
    "Supports the evidence from heatmap that the relationship is weak since there is no clear trend observable"
   ]
  },
  {
   "cell_type": "code",
   "execution_count": 22,
   "id": "aec8b8d9",
   "metadata": {},
   "outputs": [
    {
     "data": {
      "image/png": "[encoded data removed]",
      "text/plain": [
       "<Figure size 640x480 with 1 Axes>"
      ]
     },
     "metadata": {},
     "output_type": "display_data"
    }
   ],
   "source": [
    "#Barplot for survival rate by age group\n",
    "patient_data = pd.read_sql_query(\"\"\"SELECT p.age_group_id, ag.age_group_name,survive FROM patients p \n",
    "JOIN patient_visits pv \n",
    "ON p.patient_id = pv.patient_id  \n",
    "JOIN age_groups ag\n",
    "ON ag.age_group_id = p.age_group_id \"\"\", conn)\n",
    "survival_rate_by_age = patient_data.groupby(['age_group_name', 'survive']).size().unstack().reset_index()\n",
    "survival_rate_by_age['Survival Rate'] = survival_rate_by_age[True] / (survival_rate_by_age[True] + survival_rate_by_age[False])\n",
    "survival_rate_by_age = survival_rate_by_age.sort_values(by='Survival Rate',ascending=False)\n",
    "sns.barplot(x='age_group_name', y='Survival Rate', data=survival_rate_by_age)\n",
    "plt.xlabel('Age Group')\n",
    "plt.ylabel('Survival Rate')\n",
    "plt.show()"
   ]
  },
  {
   "cell_type": "markdown",
   "id": "c94569fa",
   "metadata": {},
   "source": [
    "The highest survival rate is for those below 50. As age gets larger, the survival rate decreases as observed by the decreasing trend in the rates"
   ]
  },
  {
   "cell_type": "code",
   "execution_count": 23,
   "id": "c42f47a6",
   "metadata": {},
   "outputs": [
    {
     "data": {
      "text/plain": [
       "<AxesSubplot:xlabel='age_group_name', ylabel='sys_bp'>"
      ]
     },
     "execution_count": 23,
     "metadata": {},
     "output_type": "execute_result"
    },
    {
     "data": {
      "image/png": "[encoded data removed]",
      "text/plain": [
       "<Figure size 640x480 with 1 Axes>"
      ]
     },
     "metadata": {},
     "output_type": "display_data"
    }
   ],
   "source": [
    "#Violinplot for females vs males blood pressures with respect to each age grp\n",
    "patient_data = pd.read_sql_query(\"\"\"SELECT ag.age_group_id,age_group_name,s.sex_id ,sex_name,sys_bp FROM patients p \n",
    "JOIN patient_visits pv \n",
    "ON p.patient_id = pv.patient_id  \n",
    "JOIN sexes s\n",
    "ON s.sex_id = p.sex_id \n",
    "JOIN age_groups ag\n",
    "ON ag.age_group_id = p.age_group_id \"\"\", conn)\n",
    "sns.violinplot(data=patient_data, x='age_group_name', y='sys_bp', hue='sex_name',  inner='quartile', split=True)"
   ]
  },
  {
   "cell_type": "markdown",
   "id": "f8fb1df3",
   "metadata": {},
   "source": [
    "Males generally have a higher Sys BP medians compared to females, with more observable differences between the genders in the 50-69 age group. To further study if this difference is significant between females and males in this group, hypothesis testing can be done. (First a normality test using sharpiro-wilk. If the distributions are normal, a parametric t-test can be done. Else (not normal distribution), a Mann-Whitney U test can be used to check for significance."
   ]
  },
  {
   "cell_type": "code",
   "execution_count": 24,
   "id": "a2dcd38b",
   "metadata": {},
   "outputs": [
    {
     "data": {
      "text/plain": [
       "<AxesSubplot:xlabel='survive', ylabel='count'>"
      ]
     },
     "execution_count": 24,
     "metadata": {},
     "output_type": "execute_result"
    },
    {
     "data": {
      "image/png": "[encoded data removed]",
      "text/plain": [
       "<Figure size 640x480 with 1 Axes>"
      ]
     },
     "metadata": {},
     "output_type": "display_data"
    }
   ],
   "source": [
    "#Check for class balance\n",
    "survive_df = pd.read_sql_query(\"SELECT survive FROM patient_visits\", conn)\n",
    "sns.countplot(x=survive_df['survive'])"
   ]
  },
  {
   "cell_type": "markdown",
   "id": "caa79c56",
   "metadata": {},
   "source": [
    "There is a class imbalance. The minority class (survive=0) only has 40 samples while majority class (survive=1) has 160 samples. Thus, resampling needs to be done to oversample the minority class or undersample the majority class. As undersampling of majority class reduces the model accuracies since it causes loss of information (and led to poor results when tried), oversampling of minority class was done as shown in the next section below."
   ]
  },
  {
   "cell_type": "markdown",
   "id": "5654da01",
   "metadata": {},
   "source": [
    "# Machine Learning"
   ]
  },
  {
   "cell_type": "code",
   "execution_count": 25,
   "id": "29ecc462",
   "metadata": {},
   "outputs": [
    {
     "data": {
      "text/html": [
       "<div>\n",
       "<style scoped>\n",
       "    .dataframe tbody tr th:only-of-type {\n",
       "        vertical-align: middle;\n",
       "    }\n",
       "\n",
       "    .dataframe tbody tr th {\n",
       "        vertical-align: top;\n",
       "    }\n",
       "\n",
       "    .dataframe thead th {\n",
       "        text-align: right;\n",
       "    }\n",
       "</style>\n",
       "<table border=\"1\" class=\"dataframe\">\n",
       "  <thead>\n",
       "    <tr style=\"text-align: right;\">\n",
       "      <th></th>\n",
       "      <th>age_group_id</th>\n",
       "      <th>sex_id</th>\n",
       "      <th>survive</th>\n",
       "      <th>infection</th>\n",
       "      <th>sys_bp</th>\n",
       "      <th>pulse</th>\n",
       "      <th>emergency</th>\n",
       "    </tr>\n",
       "  </thead>\n",
       "  <tbody>\n",
       "    <tr>\n",
       "      <th>0</th>\n",
       "      <td>3</td>\n",
       "      <td>1</td>\n",
       "      <td>0</td>\n",
       "      <td>1</td>\n",
       "      <td>80</td>\n",
       "      <td>96</td>\n",
       "      <td>1</td>\n",
       "    </tr>\n",
       "    <tr>\n",
       "      <th>1</th>\n",
       "      <td>1</td>\n",
       "      <td>1</td>\n",
       "      <td>1</td>\n",
       "      <td>1</td>\n",
       "      <td>142</td>\n",
       "      <td>88</td>\n",
       "      <td>1</td>\n",
       "    </tr>\n",
       "    <tr>\n",
       "      <th>2</th>\n",
       "      <td>2</td>\n",
       "      <td>0</td>\n",
       "      <td>1</td>\n",
       "      <td>0</td>\n",
       "      <td>112</td>\n",
       "      <td>80</td>\n",
       "      <td>1</td>\n",
       "    </tr>\n",
       "    <tr>\n",
       "      <th>3</th>\n",
       "      <td>3</td>\n",
       "      <td>0</td>\n",
       "      <td>1</td>\n",
       "      <td>0</td>\n",
       "      <td>100</td>\n",
       "      <td>70</td>\n",
       "      <td>0</td>\n",
       "    </tr>\n",
       "    <tr>\n",
       "      <th>4</th>\n",
       "      <td>3</td>\n",
       "      <td>1</td>\n",
       "      <td>0</td>\n",
       "      <td>1</td>\n",
       "      <td>128</td>\n",
       "      <td>90</td>\n",
       "      <td>1</td>\n",
       "    </tr>\n",
       "  </tbody>\n",
       "</table>\n",
       "</div>"
      ],
      "text/plain": [
       "  age_group_id sex_id survive infection sys_bp pulse emergency\n",
       "0            3      1       0         1     80    96         1\n",
       "1            1      1       1         1    142    88         1\n",
       "2            2      0       1         0    112    80         1\n",
       "3            3      0       1         0    100    70         0\n",
       "4            3      1       0         1    128    90         1"
      ]
     },
     "execution_count": 25,
     "metadata": {},
     "output_type": "execute_result"
    }
   ],
   "source": [
    "#get all predictors & response vars first\n",
    "all_data = pd.read_sql_query(\"\"\"SELECT * FROM patients p \n",
    "JOIN patient_visits pv \n",
    "ON p.patient_id = pv.patient_id  \n",
    "JOIN sexes s\n",
    "ON s.sex_id = p.sex_id \n",
    "JOIN age_groups ag\n",
    "ON ag.age_group_id = p.age_group_id \"\"\", conn)\n",
    "\n",
    "conn.close()\n",
    "\n",
    "merged_all_df = all_data.T.drop_duplicates().T\n",
    "merged_all_df.drop(['age','sex_name','patient_id','age_group_name'], axis=1,inplace=True)\n",
    "merged_all_df.head(5) "
   ]
  },
  {
   "cell_type": "markdown",
   "id": "a2831766",
   "metadata": {},
   "source": [
    "## Resampling Response Variable (\"Survive\")"
   ]
  },
  {
   "cell_type": "code",
   "execution_count": 26,
   "id": "50fcc196",
   "metadata": {},
   "outputs": [
    {
     "name": "stdout",
     "output_type": "stream",
     "text": [
      "1    160\n",
      "0    160\n",
      "Name: survive, dtype: int64\n"
     ]
    }
   ],
   "source": [
    "df_majority = merged_all_df[merged_all_df.survive==1]\n",
    "df_minority = merged_all_df[merged_all_df.survive==0]\n",
    "\n",
    "# Upsample minority class\n",
    "df_minority_upsampled = resample(df_minority, \n",
    "                                 replace=True,     \n",
    "                                 n_samples=len(df_majority),    # to match majority class\n",
    "                                 random_state=50) # reproducible results\n",
    "\n",
    "# Combine majority class with upsampled minority class\n",
    "df_upsampled = pd.concat([df_majority, df_minority_upsampled])\n",
    "\n",
    "# Check class distribution after upsampling\n",
    "print(df_upsampled.survive.value_counts())"
   ]
  },
  {
   "cell_type": "code",
   "execution_count": 27,
   "id": "90c5b0d2",
   "metadata": {},
   "outputs": [
    {
     "data": {
      "text/plain": [
       "<AxesSubplot:xlabel='survive', ylabel='count'>"
      ]
     },
     "execution_count": 27,
     "metadata": {},
     "output_type": "execute_result"
    },
    {
     "data": {
      "image/png": "[encoded data removed]",
      "text/plain": [
       "<Figure size 640x480 with 1 Axes>"
      ]
     },
     "metadata": {},
     "output_type": "display_data"
    }
   ],
   "source": [
    "sns.countplot(x=df_upsampled[\"survive\"])"
   ]
  },
  {
   "cell_type": "markdown",
   "id": "53c75789",
   "metadata": {},
   "source": [
    "## Train-Test split"
   ]
  },
  {
   "cell_type": "code",
   "execution_count": 28,
   "id": "48bedbed",
   "metadata": {},
   "outputs": [
    {
     "name": "stdout",
     "output_type": "stream",
     "text": [
      "Train Set : (240, 1) (240, 6)\n",
      "Test Set  : (80, 1) (80, 6)\n"
     ]
    }
   ],
   "source": [
    "# Extract Response and Predictors\n",
    "y = pd.DataFrame(df_upsampled[\"survive\"].astype(int))\n",
    "X = pd.DataFrame(df_upsampled[['age_group_id', 'sex_id', 'infection', 'sys_bp', 'pulse','emergency']])\n",
    "\n",
    "# Split the Dataset into Train and Test\n",
    "X_train, X_test, y_train, y_test = train_test_split(X, y, test_size = 0.25)\n",
    "\n",
    "# Check the sample sizes\n",
    "print(\"Train Set :\", y_train.shape, X_train.shape)\n",
    "print(\"Test Set  :\", y_test.shape, X_test.shape)"
   ]
  },
  {
   "cell_type": "markdown",
   "id": "0034e470",
   "metadata": {},
   "source": [
    "## Random Forest "
   ]
  },
  {
   "cell_type": "code",
   "execution_count": 29,
   "id": "a26f0b56",
   "metadata": {},
   "outputs": [
    {
     "name": "stdout",
     "output_type": "stream",
     "text": [
      "Goodness of Fit of Model \tTrain Dataset\n",
      "Classification Accuracy \t: 0.9333333333333333\n",
      "\n",
      "Goodness of Fit of Model \tTest Dataset\n",
      "Classification Accuracy \t: 0.925\n",
      "\n"
     ]
    },
    {
     "name": "stderr",
     "output_type": "stream",
     "text": [
      "C:\\Users\\Kirubha\\Anaconda3\\lib\\site-packages\\ipykernel_launcher.py:2: DataConversionWarning: A column-vector y was passed when a 1d array was expected. Please change the shape of y to (n_samples,), for example using ravel().\n",
      "  \n"
     ]
    },
    {
     "data": {
      "text/plain": [
       "<AxesSubplot:>"
      ]
     },
     "execution_count": 29,
     "metadata": {},
     "output_type": "execute_result"
    },
    {
     "data": {
      "image/png": "[encoded data removed]",
      "text/plain": [
       "<Figure size 1200x400 with 4 Axes>"
      ]
     },
     "metadata": {},
     "output_type": "display_data"
    }
   ],
   "source": [
    "rforest = RandomForestClassifier(n_estimators = 100, max_depth = 6)  \n",
    "rforest.fit(X_train, y_train)                         \n",
    "\n",
    "y_train_pred_rf = rforest.predict(X_train)\n",
    "y_test_pred_rf = rforest.predict(X_test)\n",
    "\n",
    "# Check the Goodness of Fit (on Train Data)\n",
    "print(\"Goodness of Fit of Model \\tTrain Dataset\")\n",
    "print(\"Classification Accuracy \\t:\", rforest.score(X_train, y_train))\n",
    "print()\n",
    "\n",
    "# Check the Goodness of Fit (on Test Data)\n",
    "print(\"Goodness of Fit of Model \\tTest Dataset\")\n",
    "print(\"Classification Accuracy \\t:\", rforest.score(X_test, y_test))\n",
    "print()\n",
    "rfscore = rforest.score(X_test, y_test)\n",
    "\n",
    "# Plot the Confusion Matrix for Train and Test\n",
    "f, axes = plt.subplots(1, 2, figsize=(12, 4))\n",
    "sns.heatmap(confusion_matrix(y_train, y_train_pred_rf),\n",
    "           annot = True, fmt=\".0f\", annot_kws={\"size\": 18}, ax = axes[0])\n",
    "sns.heatmap(confusion_matrix(y_test, y_test_pred_rf), \n",
    "           annot = True, fmt=\".0f\", annot_kws={\"size\": 18}, ax = axes[1])"
   ]
  },
  {
   "cell_type": "code",
   "execution_count": 30,
   "id": "d6c66bd7",
   "metadata": {},
   "outputs": [
    {
     "name": "stdout",
     "output_type": "stream",
     "text": [
      "              importance\n",
      "sys_bp          0.344232\n",
      "pulse           0.266041\n",
      "emergency       0.164378\n",
      "age_group_id    0.140881\n",
      "infection       0.045389\n",
      "sex_id          0.039078\n"
     ]
    }
   ],
   "source": [
    "## Calculating feature importance\n",
    "feature_importances = pd.DataFrame(rforest.feature_importances_, index = X_train.columns, columns=['importance']).sort_values('importance', ascending = False)\n",
    "print(feature_importances)"
   ]
  },
  {
   "cell_type": "markdown",
   "id": "ca6c967d",
   "metadata": {},
   "source": [
    "## Decision Tree"
   ]
  },
  {
   "cell_type": "code",
   "execution_count": 31,
   "id": "3446a9c7",
   "metadata": {},
   "outputs": [
    {
     "name": "stdout",
     "output_type": "stream",
     "text": [
      "Goodness of Fit of Model \tTrain Dataset\n",
      "Classification Accuracy \t: 0.9166666666666666\n",
      "\n",
      "Goodness of Fit of Model \tTest Dataset\n",
      "Classification Accuracy \t: 0.85\n",
      "\n"
     ]
    },
    {
     "data": {
      "image/svg+xml": [
       "<?xml version=\"1.0\" encoding=\"UTF-8\" standalone=\"no\"?>\r\n",
       "<!DOCTYPE svg PUBLIC \"-//W3C//DTD SVG 1.1//EN\"\r\n",
       " \"http://www.w3.org/Graphics/SVG/1.1/DTD/svg11.dtd\">\r\n",
       "<!-- Generated by graphviz version 2.50.0 (0)\r\n",
       " -->\r\n",
       "<!-- Title: Tree Pages: 1 -->\r\n",
       "<svg width=\"1763pt\" height=\"789pt\"\r\n",
       " viewBox=\"0.00 0.00 1763.00 789.00\" xmlns=\"http://www.w3.org/2000/svg\" xmlns:xlink=\"http://www.w3.org/1999/xlink\">\r\n",
       "<g id=\"graph0\" class=\"graph\" transform=\"scale(1 1) rotate(0) translate(4 785)\">\r\n",
       "<title>Tree</title>\r\n",
       "<polygon fill=\"white\" stroke=\"transparent\" points=\"-4,4 -4,-785 1759,-785 1759,4 -4,4\"/>\r\n",
       "<!-- 0 -->\r\n",
       "<g id=\"node1\" class=\"node\">\r\n",
       "<title>0</title>\r\n",
       "<path fill=\"#e1f0fb\" stroke=\"black\" d=\"M352,-781C352,-781 252,-781 252,-781 246,-781 240,-775 240,-769 240,-769 240,-725 240,-725 240,-719 246,-713 252,-713 252,-713 352,-713 352,-713 358,-713 364,-719 364,-725 364,-725 364,-769 364,-769 364,-775 358,-781 352,-781\"/>\r\n",
       "<text text-anchor=\"start\" x=\"251\" y=\"-765.8\" font-family=\"Helvetica,sans-Serif\" font-size=\"14.00\">emergency ≤ 0.5</text>\r\n",
       "<text text-anchor=\"start\" x=\"266.5\" y=\"-750.8\" font-family=\"Helvetica,sans-Serif\" font-size=\"14.00\">gini = 0.497</text>\r\n",
       "<text text-anchor=\"start\" x=\"257\" y=\"-735.8\" font-family=\"Helvetica,sans-Serif\" font-size=\"14.00\">samples = 240</text>\r\n",
       "<text text-anchor=\"start\" x=\"248\" y=\"-720.8\" font-family=\"Helvetica,sans-Serif\" font-size=\"14.00\">value = [110, 130]</text>\r\n",
       "</g>\r\n",
       "<!-- 1 -->\r\n",
       "<g id=\"node2\" class=\"node\">\r\n",
       "<title>1</title>\r\n",
       "<path fill=\"#4aa6e7\" stroke=\"black\" d=\"M226,-677C226,-677 148,-677 148,-677 142,-677 136,-671 136,-665 136,-665 136,-621 136,-621 136,-615 142,-609 148,-609 148,-609 226,-609 226,-609 232,-609 238,-615 238,-621 238,-621 238,-665 238,-665 238,-671 232,-677 226,-677\"/>\r\n",
       "<text text-anchor=\"start\" x=\"146\" y=\"-661.8\" font-family=\"Helvetica,sans-Serif\" font-size=\"14.00\">pulse ≤ 121.5</text>\r\n",
       "<text text-anchor=\"start\" x=\"151.5\" y=\"-646.8\" font-family=\"Helvetica,sans-Serif\" font-size=\"14.00\">gini = 0.147</text>\r\n",
       "<text text-anchor=\"start\" x=\"146\" y=\"-631.8\" font-family=\"Helvetica,sans-Serif\" font-size=\"14.00\">samples = 50</text>\r\n",
       "<text text-anchor=\"start\" x=\"144\" y=\"-616.8\" font-family=\"Helvetica,sans-Serif\" font-size=\"14.00\">value = [4, 46]</text>\r\n",
       "</g>\r\n",
       "<!-- 0&#45;&gt;1 -->\r\n",
       "<g id=\"edge1\" class=\"edge\">\r\n",
       "<title>0&#45;&gt;1</title>\r\n",
       "<path fill=\"none\" stroke=\"black\" d=\"M264.66,-712.88C254.32,-703.71 242.98,-693.65 232.24,-684.12\"/>\r\n",
       "<polygon fill=\"black\" stroke=\"black\" points=\"234.35,-681.32 224.54,-677.3 229.7,-686.55 234.35,-681.32\"/>\r\n",
       "<text text-anchor=\"middle\" x=\"226.04\" y=\"-698.55\" font-family=\"Helvetica,sans-Serif\" font-size=\"14.00\">True</text>\r\n",
       "</g>\r\n",
       "<!-- 8 -->\r\n",
       "<g id=\"node9\" class=\"node\">\r\n",
       "<title>8</title>\r\n",
       "<path fill=\"#fae5d6\" stroke=\"black\" d=\"M534.5,-677C534.5,-677 425.5,-677 425.5,-677 419.5,-677 413.5,-671 413.5,-665 413.5,-665 413.5,-621 413.5,-621 413.5,-615 419.5,-609 425.5,-609 425.5,-609 534.5,-609 534.5,-609 540.5,-609 546.5,-615 546.5,-621 546.5,-621 546.5,-665 546.5,-665 546.5,-671 540.5,-677 534.5,-677\"/>\r\n",
       "<text text-anchor=\"start\" x=\"421.5\" y=\"-661.8\" font-family=\"Helvetica,sans-Serif\" font-size=\"14.00\">age_group_id ≤ 1.5</text>\r\n",
       "<text text-anchor=\"start\" x=\"444.5\" y=\"-646.8\" font-family=\"Helvetica,sans-Serif\" font-size=\"14.00\">gini = 0.493</text>\r\n",
       "<text text-anchor=\"start\" x=\"435\" y=\"-631.8\" font-family=\"Helvetica,sans-Serif\" font-size=\"14.00\">samples = 190</text>\r\n",
       "<text text-anchor=\"start\" x=\"429.5\" y=\"-616.8\" font-family=\"Helvetica,sans-Serif\" font-size=\"14.00\">value = [106, 84]</text>\r\n",
       "</g>\r\n",
       "<!-- 0&#45;&gt;8 -->\r\n",
       "<g id=\"edge8\" class=\"edge\">\r\n",
       "<title>0&#45;&gt;8</title>\r\n",
       "<path fill=\"none\" stroke=\"black\" d=\"M359.79,-712.88C376.82,-703.12 395.6,-692.37 413.14,-682.31\"/>\r\n",
       "<polygon fill=\"black\" stroke=\"black\" points=\"415.26,-685.13 422.19,-677.12 411.78,-679.06 415.26,-685.13\"/>\r\n",
       "<text text-anchor=\"middle\" x=\"415.65\" y=\"-697.55\" font-family=\"Helvetica,sans-Serif\" font-size=\"14.00\">False</text>\r\n",
       "</g>\r\n",
       "<!-- 2 -->\r\n",
       "<g id=\"node3\" class=\"node\">\r\n",
       "<title>2</title>\r\n",
       "<path fill=\"#399de5\" stroke=\"black\" d=\"M90,-565.5C90,-565.5 12,-565.5 12,-565.5 6,-565.5 0,-559.5 0,-553.5 0,-553.5 0,-524.5 0,-524.5 0,-518.5 6,-512.5 12,-512.5 12,-512.5 90,-512.5 90,-512.5 96,-512.5 102,-518.5 102,-524.5 102,-524.5 102,-553.5 102,-553.5 102,-559.5 96,-565.5 90,-565.5\"/>\r\n",
       "<text text-anchor=\"start\" x=\"23\" y=\"-550.3\" font-family=\"Helvetica,sans-Serif\" font-size=\"14.00\">gini = 0.0</text>\r\n",
       "<text text-anchor=\"start\" x=\"10\" y=\"-535.3\" font-family=\"Helvetica,sans-Serif\" font-size=\"14.00\">samples = 42</text>\r\n",
       "<text text-anchor=\"start\" x=\"8\" y=\"-520.3\" font-family=\"Helvetica,sans-Serif\" font-size=\"14.00\">value = [0, 42]</text>\r\n",
       "</g>\r\n",
       "<!-- 1&#45;&gt;2 -->\r\n",
       "<g id=\"edge2\" class=\"edge\">\r\n",
       "<title>1&#45;&gt;2</title>\r\n",
       "<path fill=\"none\" stroke=\"black\" d=\"M142.84,-608.88C126.86,-596.9 108.87,-583.4 93.07,-571.55\"/>\r\n",
       "<polygon fill=\"black\" stroke=\"black\" points=\"95.13,-568.72 85.03,-565.52 90.93,-574.32 95.13,-568.72\"/>\r\n",
       "</g>\r\n",
       "<!-- 3 -->\r\n",
       "<g id=\"node4\" class=\"node\">\r\n",
       "<title>3</title>\r\n",
       "<path fill=\"#ffffff\" stroke=\"black\" d=\"M241.5,-573C241.5,-573 132.5,-573 132.5,-573 126.5,-573 120.5,-567 120.5,-561 120.5,-561 120.5,-517 120.5,-517 120.5,-511 126.5,-505 132.5,-505 132.5,-505 241.5,-505 241.5,-505 247.5,-505 253.5,-511 253.5,-517 253.5,-517 253.5,-561 253.5,-561 253.5,-567 247.5,-573 241.5,-573\"/>\r\n",
       "<text text-anchor=\"start\" x=\"128.5\" y=\"-557.8\" font-family=\"Helvetica,sans-Serif\" font-size=\"14.00\">age_group_id ≤ 2.5</text>\r\n",
       "<text text-anchor=\"start\" x=\"159\" y=\"-542.8\" font-family=\"Helvetica,sans-Serif\" font-size=\"14.00\">gini = 0.5</text>\r\n",
       "<text text-anchor=\"start\" x=\"149.5\" y=\"-527.8\" font-family=\"Helvetica,sans-Serif\" font-size=\"14.00\">samples = 8</text>\r\n",
       "<text text-anchor=\"start\" x=\"147.5\" y=\"-512.8\" font-family=\"Helvetica,sans-Serif\" font-size=\"14.00\">value = [4, 4]</text>\r\n",
       "</g>\r\n",
       "<!-- 1&#45;&gt;3 -->\r\n",
       "<g id=\"edge3\" class=\"edge\">\r\n",
       "<title>1&#45;&gt;3</title>\r\n",
       "<path fill=\"none\" stroke=\"black\" d=\"M187,-608.88C187,-600.78 187,-591.98 187,-583.47\"/>\r\n",
       "<polygon fill=\"black\" stroke=\"black\" points=\"190.5,-583.3 187,-573.3 183.5,-583.3 190.5,-583.3\"/>\r\n",
       "</g>\r\n",
       "<!-- 4 -->\r\n",
       "<g id=\"node5\" class=\"node\">\r\n",
       "<title>4</title>\r\n",
       "<path fill=\"#399de5\" stroke=\"black\" d=\"M107.5,-461.5C107.5,-461.5 36.5,-461.5 36.5,-461.5 30.5,-461.5 24.5,-455.5 24.5,-449.5 24.5,-449.5 24.5,-420.5 24.5,-420.5 24.5,-414.5 30.5,-408.5 36.5,-408.5 36.5,-408.5 107.5,-408.5 107.5,-408.5 113.5,-408.5 119.5,-414.5 119.5,-420.5 119.5,-420.5 119.5,-449.5 119.5,-449.5 119.5,-455.5 113.5,-461.5 107.5,-461.5\"/>\r\n",
       "<text text-anchor=\"start\" x=\"44\" y=\"-446.3\" font-family=\"Helvetica,sans-Serif\" font-size=\"14.00\">gini = 0.0</text>\r\n",
       "<text text-anchor=\"start\" x=\"34.5\" y=\"-431.3\" font-family=\"Helvetica,sans-Serif\" font-size=\"14.00\">samples = 3</text>\r\n",
       "<text text-anchor=\"start\" x=\"32.5\" y=\"-416.3\" font-family=\"Helvetica,sans-Serif\" font-size=\"14.00\">value = [0, 3]</text>\r\n",
       "</g>\r\n",
       "<!-- 3&#45;&gt;4 -->\r\n",
       "<g id=\"edge4\" class=\"edge\">\r\n",
       "<title>3&#45;&gt;4</title>\r\n",
       "<path fill=\"none\" stroke=\"black\" d=\"M149.66,-504.88C136.4,-493.12 121.49,-479.89 108.31,-468.2\"/>\r\n",
       "<polygon fill=\"black\" stroke=\"black\" points=\"110.58,-465.54 100.77,-461.52 105.93,-470.77 110.58,-465.54\"/>\r\n",
       "</g>\r\n",
       "<!-- 5 -->\r\n",
       "<g id=\"node6\" class=\"node\">\r\n",
       "<title>5</title>\r\n",
       "<path fill=\"#eca06a\" stroke=\"black\" d=\"M224,-469C224,-469 150,-469 150,-469 144,-469 138,-463 138,-457 138,-457 138,-413 138,-413 138,-407 144,-401 150,-401 150,-401 224,-401 224,-401 230,-401 236,-407 236,-413 236,-413 236,-457 236,-457 236,-463 230,-469 224,-469\"/>\r\n",
       "<text text-anchor=\"start\" x=\"146\" y=\"-453.8\" font-family=\"Helvetica,sans-Serif\" font-size=\"14.00\">pulse ≤ 137.0</text>\r\n",
       "<text text-anchor=\"start\" x=\"155\" y=\"-438.8\" font-family=\"Helvetica,sans-Serif\" font-size=\"14.00\">gini = 0.32</text>\r\n",
       "<text text-anchor=\"start\" x=\"149.5\" y=\"-423.8\" font-family=\"Helvetica,sans-Serif\" font-size=\"14.00\">samples = 5</text>\r\n",
       "<text text-anchor=\"start\" x=\"147.5\" y=\"-408.8\" font-family=\"Helvetica,sans-Serif\" font-size=\"14.00\">value = [4, 1]</text>\r\n",
       "</g>\r\n",
       "<!-- 3&#45;&gt;5 -->\r\n",
       "<g id=\"edge5\" class=\"edge\">\r\n",
       "<title>3&#45;&gt;5</title>\r\n",
       "<path fill=\"none\" stroke=\"black\" d=\"M187,-504.88C187,-496.78 187,-487.98 187,-479.47\"/>\r\n",
       "<polygon fill=\"black\" stroke=\"black\" points=\"190.5,-479.3 187,-469.3 183.5,-479.3 190.5,-479.3\"/>\r\n",
       "</g>\r\n",
       "<!-- 6 -->\r\n",
       "<g id=\"node7\" class=\"node\">\r\n",
       "<title>6</title>\r\n",
       "<path fill=\"#e58139\" stroke=\"black\" d=\"M109.5,-357.5C109.5,-357.5 38.5,-357.5 38.5,-357.5 32.5,-357.5 26.5,-351.5 26.5,-345.5 26.5,-345.5 26.5,-316.5 26.5,-316.5 26.5,-310.5 32.5,-304.5 38.5,-304.5 38.5,-304.5 109.5,-304.5 109.5,-304.5 115.5,-304.5 121.5,-310.5 121.5,-316.5 121.5,-316.5 121.5,-345.5 121.5,-345.5 121.5,-351.5 115.5,-357.5 109.5,-357.5\"/>\r\n",
       "<text text-anchor=\"start\" x=\"46\" y=\"-342.3\" font-family=\"Helvetica,sans-Serif\" font-size=\"14.00\">gini = 0.0</text>\r\n",
       "<text text-anchor=\"start\" x=\"36.5\" y=\"-327.3\" font-family=\"Helvetica,sans-Serif\" font-size=\"14.00\">samples = 4</text>\r\n",
       "<text text-anchor=\"start\" x=\"34.5\" y=\"-312.3\" font-family=\"Helvetica,sans-Serif\" font-size=\"14.00\">value = [4, 0]</text>\r\n",
       "</g>\r\n",
       "<!-- 5&#45;&gt;6 -->\r\n",
       "<g id=\"edge6\" class=\"edge\">\r\n",
       "<title>5&#45;&gt;6</title>\r\n",
       "<path fill=\"none\" stroke=\"black\" d=\"M150.31,-400.88C137.4,-389.23 122.9,-376.14 110.04,-364.53\"/>\r\n",
       "<polygon fill=\"black\" stroke=\"black\" points=\"112.04,-361.62 102.27,-357.52 107.35,-366.82 112.04,-361.62\"/>\r\n",
       "</g>\r\n",
       "<!-- 7 -->\r\n",
       "<g id=\"node8\" class=\"node\">\r\n",
       "<title>7</title>\r\n",
       "<path fill=\"#399de5\" stroke=\"black\" d=\"M222.5,-357.5C222.5,-357.5 151.5,-357.5 151.5,-357.5 145.5,-357.5 139.5,-351.5 139.5,-345.5 139.5,-345.5 139.5,-316.5 139.5,-316.5 139.5,-310.5 145.5,-304.5 151.5,-304.5 151.5,-304.5 222.5,-304.5 222.5,-304.5 228.5,-304.5 234.5,-310.5 234.5,-316.5 234.5,-316.5 234.5,-345.5 234.5,-345.5 234.5,-351.5 228.5,-357.5 222.5,-357.5\"/>\r\n",
       "<text text-anchor=\"start\" x=\"159\" y=\"-342.3\" font-family=\"Helvetica,sans-Serif\" font-size=\"14.00\">gini = 0.0</text>\r\n",
       "<text text-anchor=\"start\" x=\"149.5\" y=\"-327.3\" font-family=\"Helvetica,sans-Serif\" font-size=\"14.00\">samples = 1</text>\r\n",
       "<text text-anchor=\"start\" x=\"147.5\" y=\"-312.3\" font-family=\"Helvetica,sans-Serif\" font-size=\"14.00\">value = [0, 1]</text>\r\n",
       "</g>\r\n",
       "<!-- 5&#45;&gt;7 -->\r\n",
       "<g id=\"edge7\" class=\"edge\">\r\n",
       "<title>5&#45;&gt;7</title>\r\n",
       "<path fill=\"none\" stroke=\"black\" d=\"M187,-400.88C187,-390.33 187,-378.6 187,-367.85\"/>\r\n",
       "<polygon fill=\"black\" stroke=\"black\" points=\"190.5,-367.52 187,-357.52 183.5,-367.52 190.5,-367.52\"/>\r\n",
       "</g>\r\n",
       "<!-- 9 -->\r\n",
       "<g id=\"node10\" class=\"node\">\r\n",
       "<title>9</title>\r\n",
       "<path fill=\"#7bbeee\" stroke=\"black\" d=\"M523,-573C523,-573 437,-573 437,-573 431,-573 425,-567 425,-561 425,-561 425,-517 425,-517 425,-511 431,-505 437,-505 437,-505 523,-505 523,-505 529,-505 535,-511 535,-517 535,-517 535,-561 535,-561 535,-567 529,-573 523,-573\"/>\r\n",
       "<text text-anchor=\"start\" x=\"443\" y=\"-557.8\" font-family=\"Helvetica,sans-Serif\" font-size=\"14.00\">pulse ≤ 81.5</text>\r\n",
       "<text text-anchor=\"start\" x=\"444.5\" y=\"-542.8\" font-family=\"Helvetica,sans-Serif\" font-size=\"14.00\">gini = 0.375</text>\r\n",
       "<text text-anchor=\"start\" x=\"439\" y=\"-527.8\" font-family=\"Helvetica,sans-Serif\" font-size=\"14.00\">samples = 48</text>\r\n",
       "<text text-anchor=\"start\" x=\"433\" y=\"-512.8\" font-family=\"Helvetica,sans-Serif\" font-size=\"14.00\">value = [12, 36]</text>\r\n",
       "</g>\r\n",
       "<!-- 8&#45;&gt;9 -->\r\n",
       "<g id=\"edge9\" class=\"edge\">\r\n",
       "<title>8&#45;&gt;9</title>\r\n",
       "<path fill=\"none\" stroke=\"black\" d=\"M480,-608.88C480,-600.78 480,-591.98 480,-583.47\"/>\r\n",
       "<polygon fill=\"black\" stroke=\"black\" points=\"483.5,-583.3 480,-573.3 476.5,-583.3 483.5,-583.3\"/>\r\n",
       "</g>\r\n",
       "<!-- 28 -->\r\n",
       "<g id=\"node29\" class=\"node\">\r\n",
       "<title>28</title>\r\n",
       "<path fill=\"#f2c19e\" stroke=\"black\" d=\"M1126,-573C1126,-573 1040,-573 1040,-573 1034,-573 1028,-567 1028,-561 1028,-561 1028,-517 1028,-517 1028,-511 1034,-505 1040,-505 1040,-505 1126,-505 1126,-505 1132,-505 1138,-511 1138,-517 1138,-517 1138,-561 1138,-561 1138,-567 1132,-573 1126,-573\"/>\r\n",
       "<text text-anchor=\"start\" x=\"1037\" y=\"-557.8\" font-family=\"Helvetica,sans-Serif\" font-size=\"14.00\">sys_bp ≤ 151.0</text>\r\n",
       "<text text-anchor=\"start\" x=\"1047.5\" y=\"-542.8\" font-family=\"Helvetica,sans-Serif\" font-size=\"14.00\">gini = 0.448</text>\r\n",
       "<text text-anchor=\"start\" x=\"1038\" y=\"-527.8\" font-family=\"Helvetica,sans-Serif\" font-size=\"14.00\">samples = 142</text>\r\n",
       "<text text-anchor=\"start\" x=\"1036\" y=\"-512.8\" font-family=\"Helvetica,sans-Serif\" font-size=\"14.00\">value = [94, 48]</text>\r\n",
       "</g>\r\n",
       "<!-- 8&#45;&gt;28 -->\r\n",
       "<g id=\"edge28\" class=\"edge\">\r\n",
       "<title>8&#45;&gt;28</title>\r\n",
       "<path fill=\"none\" stroke=\"black\" d=\"M546.55,-630.74C662.95,-611.05 902.1,-570.6 1017.65,-551.05\"/>\r\n",
       "<polygon fill=\"black\" stroke=\"black\" points=\"1018.49,-554.46 1027.77,-549.34 1017.33,-547.56 1018.49,-554.46\"/>\r\n",
       "</g>\r\n",
       "<!-- 10 -->\r\n",
       "<g id=\"node11\" class=\"node\">\r\n",
       "<title>10</title>\r\n",
       "<path fill=\"#edf6fd\" stroke=\"black\" d=\"M460.5,-469C460.5,-469 375.5,-469 375.5,-469 369.5,-469 363.5,-463 363.5,-457 363.5,-457 363.5,-413 363.5,-413 363.5,-407 369.5,-401 375.5,-401 375.5,-401 460.5,-401 460.5,-401 466.5,-401 472.5,-407 472.5,-413 472.5,-413 472.5,-457 472.5,-457 472.5,-463 466.5,-469 460.5,-469\"/>\r\n",
       "<text text-anchor=\"start\" x=\"372\" y=\"-453.8\" font-family=\"Helvetica,sans-Serif\" font-size=\"14.00\">sys_bp ≤ 138.0</text>\r\n",
       "<text text-anchor=\"start\" x=\"382.5\" y=\"-438.8\" font-family=\"Helvetica,sans-Serif\" font-size=\"14.00\">gini = 0.499</text>\r\n",
       "<text text-anchor=\"start\" x=\"377\" y=\"-423.8\" font-family=\"Helvetica,sans-Serif\" font-size=\"14.00\">samples = 21</text>\r\n",
       "<text text-anchor=\"start\" x=\"371.5\" y=\"-408.8\" font-family=\"Helvetica,sans-Serif\" font-size=\"14.00\">value = [10, 11]</text>\r\n",
       "</g>\r\n",
       "<!-- 9&#45;&gt;10 -->\r\n",
       "<g id=\"edge10\" class=\"edge\">\r\n",
       "<title>9&#45;&gt;10</title>\r\n",
       "<path fill=\"none\" stroke=\"black\" d=\"M459.87,-504.88C454.67,-496.33 449.01,-487.01 443.57,-478.07\"/>\r\n",
       "<polygon fill=\"black\" stroke=\"black\" points=\"446.43,-476.03 438.24,-469.3 440.44,-479.66 446.43,-476.03\"/>\r\n",
       "</g>\r\n",
       "<!-- 21 -->\r\n",
       "<g id=\"node22\" class=\"node\">\r\n",
       "<title>21</title>\r\n",
       "<path fill=\"#49a5e7\" stroke=\"black\" d=\"M581,-469C581,-469 503,-469 503,-469 497,-469 491,-463 491,-457 491,-457 491,-413 491,-413 491,-407 497,-401 503,-401 503,-401 581,-401 581,-401 587,-401 593,-407 593,-413 593,-413 593,-457 593,-457 593,-463 587,-469 581,-469\"/>\r\n",
       "<text text-anchor=\"start\" x=\"499.5\" y=\"-453.8\" font-family=\"Helvetica,sans-Serif\" font-size=\"14.00\">infection ≤ 0.5</text>\r\n",
       "<text text-anchor=\"start\" x=\"506.5\" y=\"-438.8\" font-family=\"Helvetica,sans-Serif\" font-size=\"14.00\">gini = 0.137</text>\r\n",
       "<text text-anchor=\"start\" x=\"501\" y=\"-423.8\" font-family=\"Helvetica,sans-Serif\" font-size=\"14.00\">samples = 27</text>\r\n",
       "<text text-anchor=\"start\" x=\"499\" y=\"-408.8\" font-family=\"Helvetica,sans-Serif\" font-size=\"14.00\">value = [2, 25]</text>\r\n",
       "</g>\r\n",
       "<!-- 9&#45;&gt;21 -->\r\n",
       "<g id=\"edge21\" class=\"edge\">\r\n",
       "<title>9&#45;&gt;21</title>\r\n",
       "<path fill=\"none\" stroke=\"black\" d=\"M500.13,-504.88C505.33,-496.33 510.99,-487.01 516.43,-478.07\"/>\r\n",
       "<polygon fill=\"black\" stroke=\"black\" points=\"519.56,-479.66 521.76,-469.3 513.57,-476.03 519.56,-479.66\"/>\r\n",
       "</g>\r\n",
       "<!-- 11 -->\r\n",
       "<g id=\"node12\" class=\"node\">\r\n",
       "<title>11</title>\r\n",
       "<path fill=\"#6ab6ec\" stroke=\"black\" d=\"M341.5,-365C341.5,-365 264.5,-365 264.5,-365 258.5,-365 252.5,-359 252.5,-353 252.5,-353 252.5,-309 252.5,-309 252.5,-303 258.5,-297 264.5,-297 264.5,-297 341.5,-297 341.5,-297 347.5,-297 353.5,-303 353.5,-309 353.5,-309 353.5,-353 353.5,-353 353.5,-359 347.5,-365 341.5,-365\"/>\r\n",
       "<text text-anchor=\"start\" x=\"260.5\" y=\"-349.8\" font-family=\"Helvetica,sans-Serif\" font-size=\"14.00\">sys_bp ≤ 97.0</text>\r\n",
       "<text text-anchor=\"start\" x=\"271\" y=\"-334.8\" font-family=\"Helvetica,sans-Serif\" font-size=\"14.00\">gini = 0.32</text>\r\n",
       "<text text-anchor=\"start\" x=\"262\" y=\"-319.8\" font-family=\"Helvetica,sans-Serif\" font-size=\"14.00\">samples = 10</text>\r\n",
       "<text text-anchor=\"start\" x=\"263.5\" y=\"-304.8\" font-family=\"Helvetica,sans-Serif\" font-size=\"14.00\">value = [2, 8]</text>\r\n",
       "</g>\r\n",
       "<!-- 10&#45;&gt;11 -->\r\n",
       "<g id=\"edge11\" class=\"edge\">\r\n",
       "<title>10&#45;&gt;11</title>\r\n",
       "<path fill=\"none\" stroke=\"black\" d=\"M380.66,-400.88C370.32,-391.71 358.98,-381.65 348.24,-372.12\"/>\r\n",
       "<polygon fill=\"black\" stroke=\"black\" points=\"350.35,-369.32 340.54,-365.3 345.7,-374.55 350.35,-369.32\"/>\r\n",
       "</g>\r\n",
       "<!-- 14 -->\r\n",
       "<g id=\"node15\" class=\"node\">\r\n",
       "<title>14</title>\r\n",
       "<path fill=\"#efb083\" stroke=\"black\" d=\"M458,-365C458,-365 384,-365 384,-365 378,-365 372,-359 372,-353 372,-353 372,-309 372,-309 372,-303 378,-297 384,-297 384,-297 458,-297 458,-297 464,-297 470,-303 470,-309 470,-309 470,-353 470,-353 470,-359 464,-365 458,-365\"/>\r\n",
       "<text text-anchor=\"start\" x=\"384\" y=\"-349.8\" font-family=\"Helvetica,sans-Serif\" font-size=\"14.00\">pulse ≤ 77.0</text>\r\n",
       "<text text-anchor=\"start\" x=\"385.5\" y=\"-334.8\" font-family=\"Helvetica,sans-Serif\" font-size=\"14.00\">gini = 0.397</text>\r\n",
       "<text text-anchor=\"start\" x=\"380\" y=\"-319.8\" font-family=\"Helvetica,sans-Serif\" font-size=\"14.00\">samples = 11</text>\r\n",
       "<text text-anchor=\"start\" x=\"381.5\" y=\"-304.8\" font-family=\"Helvetica,sans-Serif\" font-size=\"14.00\">value = [8, 3]</text>\r\n",
       "</g>\r\n",
       "<!-- 10&#45;&gt;14 -->\r\n",
       "<g id=\"edge14\" class=\"edge\">\r\n",
       "<title>10&#45;&gt;14</title>\r\n",
       "<path fill=\"none\" stroke=\"black\" d=\"M418.97,-400.88C419.21,-392.78 419.47,-383.98 419.72,-375.47\"/>\r\n",
       "<polygon fill=\"black\" stroke=\"black\" points=\"423.23,-375.4 420.02,-365.3 416.23,-375.19 423.23,-375.4\"/>\r\n",
       "</g>\r\n",
       "<!-- 12 -->\r\n",
       "<g id=\"node13\" class=\"node\">\r\n",
       "<title>12</title>\r\n",
       "<path fill=\"#e58139\" stroke=\"black\" d=\"M225.5,-253.5C225.5,-253.5 154.5,-253.5 154.5,-253.5 148.5,-253.5 142.5,-247.5 142.5,-241.5 142.5,-241.5 142.5,-212.5 142.5,-212.5 142.5,-206.5 148.5,-200.5 154.5,-200.5 154.5,-200.5 225.5,-200.5 225.5,-200.5 231.5,-200.5 237.5,-206.5 237.5,-212.5 237.5,-212.5 237.5,-241.5 237.5,-241.5 237.5,-247.5 231.5,-253.5 225.5,-253.5\"/>\r\n",
       "<text text-anchor=\"start\" x=\"162\" y=\"-238.3\" font-family=\"Helvetica,sans-Serif\" font-size=\"14.00\">gini = 0.0</text>\r\n",
       "<text text-anchor=\"start\" x=\"152.5\" y=\"-223.3\" font-family=\"Helvetica,sans-Serif\" font-size=\"14.00\">samples = 2</text>\r\n",
       "<text text-anchor=\"start\" x=\"150.5\" y=\"-208.3\" font-family=\"Helvetica,sans-Serif\" font-size=\"14.00\">value = [2, 0]</text>\r\n",
       "</g>\r\n",
       "<!-- 11&#45;&gt;12 -->\r\n",
       "<g id=\"edge12\" class=\"edge\">\r\n",
       "<title>11&#45;&gt;12</title>\r\n",
       "<path fill=\"none\" stroke=\"black\" d=\"M266.31,-296.88C253.4,-285.23 238.9,-272.14 226.04,-260.53\"/>\r\n",
       "<polygon fill=\"black\" stroke=\"black\" points=\"228.04,-257.62 218.27,-253.52 223.35,-262.82 228.04,-257.62\"/>\r\n",
       "</g>\r\n",
       "<!-- 13 -->\r\n",
       "<g id=\"node14\" class=\"node\">\r\n",
       "<title>13</title>\r\n",
       "<path fill=\"#399de5\" stroke=\"black\" d=\"M338.5,-253.5C338.5,-253.5 267.5,-253.5 267.5,-253.5 261.5,-253.5 255.5,-247.5 255.5,-241.5 255.5,-241.5 255.5,-212.5 255.5,-212.5 255.5,-206.5 261.5,-200.5 267.5,-200.5 267.5,-200.5 338.5,-200.5 338.5,-200.5 344.5,-200.5 350.5,-206.5 350.5,-212.5 350.5,-212.5 350.5,-241.5 350.5,-241.5 350.5,-247.5 344.5,-253.5 338.5,-253.5\"/>\r\n",
       "<text text-anchor=\"start\" x=\"275\" y=\"-238.3\" font-family=\"Helvetica,sans-Serif\" font-size=\"14.00\">gini = 0.0</text>\r\n",
       "<text text-anchor=\"start\" x=\"265.5\" y=\"-223.3\" font-family=\"Helvetica,sans-Serif\" font-size=\"14.00\">samples = 8</text>\r\n",
       "<text text-anchor=\"start\" x=\"263.5\" y=\"-208.3\" font-family=\"Helvetica,sans-Serif\" font-size=\"14.00\">value = [0, 8]</text>\r\n",
       "</g>\r\n",
       "<!-- 11&#45;&gt;13 -->\r\n",
       "<g id=\"edge13\" class=\"edge\">\r\n",
       "<title>11&#45;&gt;13</title>\r\n",
       "<path fill=\"none\" stroke=\"black\" d=\"M303,-296.88C303,-286.33 303,-274.6 303,-263.85\"/>\r\n",
       "<polygon fill=\"black\" stroke=\"black\" points=\"306.5,-263.52 303,-253.52 299.5,-263.52 306.5,-263.52\"/>\r\n",
       "</g>\r\n",
       "<!-- 15 -->\r\n",
       "<g id=\"node16\" class=\"node\">\r\n",
       "<title>15</title>\r\n",
       "<path fill=\"#e89152\" stroke=\"black\" d=\"M451.5,-261C451.5,-261 380.5,-261 380.5,-261 374.5,-261 368.5,-255 368.5,-249 368.5,-249 368.5,-205 368.5,-205 368.5,-199 374.5,-193 380.5,-193 380.5,-193 451.5,-193 451.5,-193 457.5,-193 463.5,-199 463.5,-205 463.5,-205 463.5,-249 463.5,-249 463.5,-255 457.5,-261 451.5,-261\"/>\r\n",
       "<text text-anchor=\"start\" x=\"379\" y=\"-245.8\" font-family=\"Helvetica,sans-Serif\" font-size=\"14.00\">pulse ≤ 68.5</text>\r\n",
       "<text text-anchor=\"start\" x=\"380.5\" y=\"-230.8\" font-family=\"Helvetica,sans-Serif\" font-size=\"14.00\">gini = 0.198</text>\r\n",
       "<text text-anchor=\"start\" x=\"378.5\" y=\"-215.8\" font-family=\"Helvetica,sans-Serif\" font-size=\"14.00\">samples = 9</text>\r\n",
       "<text text-anchor=\"start\" x=\"376.5\" y=\"-200.8\" font-family=\"Helvetica,sans-Serif\" font-size=\"14.00\">value = [8, 1]</text>\r\n",
       "</g>\r\n",
       "<!-- 14&#45;&gt;15 -->\r\n",
       "<g id=\"edge15\" class=\"edge\">\r\n",
       "<title>14&#45;&gt;15</title>\r\n",
       "<path fill=\"none\" stroke=\"black\" d=\"M419.38,-296.88C418.98,-288.78 418.55,-279.98 418.13,-271.47\"/>\r\n",
       "<polygon fill=\"black\" stroke=\"black\" points=\"421.62,-271.12 417.63,-261.3 414.63,-271.46 421.62,-271.12\"/>\r\n",
       "</g>\r\n",
       "<!-- 20 -->\r\n",
       "<g id=\"node21\" class=\"node\">\r\n",
       "<title>20</title>\r\n",
       "<path fill=\"#399de5\" stroke=\"black\" d=\"M564.5,-253.5C564.5,-253.5 493.5,-253.5 493.5,-253.5 487.5,-253.5 481.5,-247.5 481.5,-241.5 481.5,-241.5 481.5,-212.5 481.5,-212.5 481.5,-206.5 487.5,-200.5 493.5,-200.5 493.5,-200.5 564.5,-200.5 564.5,-200.5 570.5,-200.5 576.5,-206.5 576.5,-212.5 576.5,-212.5 576.5,-241.5 576.5,-241.5 576.5,-247.5 570.5,-253.5 564.5,-253.5\"/>\r\n",
       "<text text-anchor=\"start\" x=\"501\" y=\"-238.3\" font-family=\"Helvetica,sans-Serif\" font-size=\"14.00\">gini = 0.0</text>\r\n",
       "<text text-anchor=\"start\" x=\"491.5\" y=\"-223.3\" font-family=\"Helvetica,sans-Serif\" font-size=\"14.00\">samples = 2</text>\r\n",
       "<text text-anchor=\"start\" x=\"489.5\" y=\"-208.3\" font-family=\"Helvetica,sans-Serif\" font-size=\"14.00\">value = [0, 2]</text>\r\n",
       "</g>\r\n",
       "<!-- 14&#45;&gt;20 -->\r\n",
       "<g id=\"edge20\" class=\"edge\">\r\n",
       "<title>14&#45;&gt;20</title>\r\n",
       "<path fill=\"none\" stroke=\"black\" d=\"M456.06,-296.88C468.41,-285.23 482.26,-272.14 494.55,-260.53\"/>\r\n",
       "<polygon fill=\"black\" stroke=\"black\" points=\"497.11,-262.93 501.98,-253.52 492.31,-257.84 497.11,-262.93\"/>\r\n",
       "</g>\r\n",
       "<!-- 16 -->\r\n",
       "<g id=\"node17\" class=\"node\">\r\n",
       "<title>16</title>\r\n",
       "<path fill=\"#f2c09c\" stroke=\"black\" d=\"M395.5,-157C395.5,-157 318.5,-157 318.5,-157 312.5,-157 306.5,-151 306.5,-145 306.5,-145 306.5,-101 306.5,-101 306.5,-95 312.5,-89 318.5,-89 318.5,-89 395.5,-89 395.5,-89 401.5,-89 407.5,-95 407.5,-101 407.5,-101 407.5,-145 407.5,-145 407.5,-151 401.5,-157 395.5,-157\"/>\r\n",
       "<text text-anchor=\"start\" x=\"314.5\" y=\"-141.8\" font-family=\"Helvetica,sans-Serif\" font-size=\"14.00\">infection ≤ 0.5</text>\r\n",
       "<text text-anchor=\"start\" x=\"321.5\" y=\"-126.8\" font-family=\"Helvetica,sans-Serif\" font-size=\"14.00\">gini = 0.444</text>\r\n",
       "<text text-anchor=\"start\" x=\"319.5\" y=\"-111.8\" font-family=\"Helvetica,sans-Serif\" font-size=\"14.00\">samples = 3</text>\r\n",
       "<text text-anchor=\"start\" x=\"317.5\" y=\"-96.8\" font-family=\"Helvetica,sans-Serif\" font-size=\"14.00\">value = [2, 1]</text>\r\n",
       "</g>\r\n",
       "<!-- 15&#45;&gt;16 -->\r\n",
       "<g id=\"edge16\" class=\"edge\">\r\n",
       "<title>15&#45;&gt;16</title>\r\n",
       "<path fill=\"none\" stroke=\"black\" d=\"M396.84,-192.88C391.9,-184.33 386.51,-175.01 381.34,-166.07\"/>\r\n",
       "<polygon fill=\"black\" stroke=\"black\" points=\"384.3,-164.2 376.26,-157.3 378.24,-167.71 384.3,-164.2\"/>\r\n",
       "</g>\r\n",
       "<!-- 19 -->\r\n",
       "<g id=\"node20\" class=\"node\">\r\n",
       "<title>19</title>\r\n",
       "<path fill=\"#e58139\" stroke=\"black\" d=\"M508.5,-149.5C508.5,-149.5 437.5,-149.5 437.5,-149.5 431.5,-149.5 425.5,-143.5 425.5,-137.5 425.5,-137.5 425.5,-108.5 425.5,-108.5 425.5,-102.5 431.5,-96.5 437.5,-96.5 437.5,-96.5 508.5,-96.5 508.5,-96.5 514.5,-96.5 520.5,-102.5 520.5,-108.5 520.5,-108.5 520.5,-137.5 520.5,-137.5 520.5,-143.5 514.5,-149.5 508.5,-149.5\"/>\r\n",
       "<text text-anchor=\"start\" x=\"445\" y=\"-134.3\" font-family=\"Helvetica,sans-Serif\" font-size=\"14.00\">gini = 0.0</text>\r\n",
       "<text text-anchor=\"start\" x=\"435.5\" y=\"-119.3\" font-family=\"Helvetica,sans-Serif\" font-size=\"14.00\">samples = 6</text>\r\n",
       "<text text-anchor=\"start\" x=\"433.5\" y=\"-104.3\" font-family=\"Helvetica,sans-Serif\" font-size=\"14.00\">value = [6, 0]</text>\r\n",
       "</g>\r\n",
       "<!-- 15&#45;&gt;19 -->\r\n",
       "<g id=\"edge19\" class=\"edge\">\r\n",
       "<title>15&#45;&gt;19</title>\r\n",
       "<path fill=\"none\" stroke=\"black\" d=\"M434.51,-192.88C440.65,-181.89 447.51,-169.62 453.71,-158.52\"/>\r\n",
       "<polygon fill=\"black\" stroke=\"black\" points=\"456.92,-159.96 458.74,-149.52 450.81,-156.54 456.92,-159.96\"/>\r\n",
       "</g>\r\n",
       "<!-- 17 -->\r\n",
       "<g id=\"node18\" class=\"node\">\r\n",
       "<title>17</title>\r\n",
       "<path fill=\"#399de5\" stroke=\"black\" d=\"M336.5,-53C336.5,-53 265.5,-53 265.5,-53 259.5,-53 253.5,-47 253.5,-41 253.5,-41 253.5,-12 253.5,-12 253.5,-6 259.5,0 265.5,0 265.5,0 336.5,0 336.5,0 342.5,0 348.5,-6 348.5,-12 348.5,-12 348.5,-41 348.5,-41 348.5,-47 342.5,-53 336.5,-53\"/>\r\n",
       "<text text-anchor=\"start\" x=\"273\" y=\"-37.8\" font-family=\"Helvetica,sans-Serif\" font-size=\"14.00\">gini = 0.0</text>\r\n",
       "<text text-anchor=\"start\" x=\"263.5\" y=\"-22.8\" font-family=\"Helvetica,sans-Serif\" font-size=\"14.00\">samples = 1</text>\r\n",
       "<text text-anchor=\"start\" x=\"261.5\" y=\"-7.8\" font-family=\"Helvetica,sans-Serif\" font-size=\"14.00\">value = [0, 1]</text>\r\n",
       "</g>\r\n",
       "<!-- 16&#45;&gt;17 -->\r\n",
       "<g id=\"edge17\" class=\"edge\">\r\n",
       "<title>16&#45;&gt;17</title>\r\n",
       "<path fill=\"none\" stroke=\"black\" d=\"M337.41,-88.95C332.26,-80.26 326.7,-70.86 321.5,-62.09\"/>\r\n",
       "<polygon fill=\"black\" stroke=\"black\" points=\"324.36,-60.06 316.25,-53.24 318.34,-63.62 324.36,-60.06\"/>\r\n",
       "</g>\r\n",
       "<!-- 18 -->\r\n",
       "<g id=\"node19\" class=\"node\">\r\n",
       "<title>18</title>\r\n",
       "<path fill=\"#e58139\" stroke=\"black\" d=\"M449.5,-53C449.5,-53 378.5,-53 378.5,-53 372.5,-53 366.5,-47 366.5,-41 366.5,-41 366.5,-12 366.5,-12 366.5,-6 372.5,0 378.5,0 378.5,0 449.5,0 449.5,0 455.5,0 461.5,-6 461.5,-12 461.5,-12 461.5,-41 461.5,-41 461.5,-47 455.5,-53 449.5,-53\"/>\r\n",
       "<text text-anchor=\"start\" x=\"386\" y=\"-37.8\" font-family=\"Helvetica,sans-Serif\" font-size=\"14.00\">gini = 0.0</text>\r\n",
       "<text text-anchor=\"start\" x=\"376.5\" y=\"-22.8\" font-family=\"Helvetica,sans-Serif\" font-size=\"14.00\">samples = 2</text>\r\n",
       "<text text-anchor=\"start\" x=\"374.5\" y=\"-7.8\" font-family=\"Helvetica,sans-Serif\" font-size=\"14.00\">value = [2, 0]</text>\r\n",
       "</g>\r\n",
       "<!-- 16&#45;&gt;18 -->\r\n",
       "<g id=\"edge18\" class=\"edge\">\r\n",
       "<title>16&#45;&gt;18</title>\r\n",
       "<path fill=\"none\" stroke=\"black\" d=\"M376.94,-88.95C382.23,-80.17 387.97,-70.66 393.3,-61.82\"/>\r\n",
       "<polygon fill=\"black\" stroke=\"black\" points=\"396.31,-63.61 398.48,-53.24 390.31,-59.99 396.31,-63.61\"/>\r\n",
       "</g>\r\n",
       "<!-- 22 -->\r\n",
       "<g id=\"node23\" class=\"node\">\r\n",
       "<title>22</title>\r\n",
       "<path fill=\"#399de5\" stroke=\"black\" d=\"M580,-357.5C580,-357.5 502,-357.5 502,-357.5 496,-357.5 490,-351.5 490,-345.5 490,-345.5 490,-316.5 490,-316.5 490,-310.5 496,-304.5 502,-304.5 502,-304.5 580,-304.5 580,-304.5 586,-304.5 592,-310.5 592,-316.5 592,-316.5 592,-345.5 592,-345.5 592,-351.5 586,-357.5 580,-357.5\"/>\r\n",
       "<text text-anchor=\"start\" x=\"513\" y=\"-342.3\" font-family=\"Helvetica,sans-Serif\" font-size=\"14.00\">gini = 0.0</text>\r\n",
       "<text text-anchor=\"start\" x=\"500\" y=\"-327.3\" font-family=\"Helvetica,sans-Serif\" font-size=\"14.00\">samples = 16</text>\r\n",
       "<text text-anchor=\"start\" x=\"498\" y=\"-312.3\" font-family=\"Helvetica,sans-Serif\" font-size=\"14.00\">value = [0, 16]</text>\r\n",
       "</g>\r\n",
       "<!-- 21&#45;&gt;22 -->\r\n",
       "<g id=\"edge22\" class=\"edge\">\r\n",
       "<title>21&#45;&gt;22</title>\r\n",
       "<path fill=\"none\" stroke=\"black\" d=\"M541.68,-400.88C541.57,-390.33 541.46,-378.6 541.35,-367.85\"/>\r\n",
       "<polygon fill=\"black\" stroke=\"black\" points=\"544.85,-367.49 541.25,-357.52 537.85,-367.55 544.85,-367.49\"/>\r\n",
       "</g>\r\n",
       "<!-- 23 -->\r\n",
       "<g id=\"node24\" class=\"node\">\r\n",
       "<title>23</title>\r\n",
       "<path fill=\"#65b3eb\" stroke=\"black\" d=\"M706,-365C706,-365 622,-365 622,-365 616,-365 610,-359 610,-353 610,-353 610,-309 610,-309 610,-303 616,-297 622,-297 622,-297 706,-297 706,-297 712,-297 718,-303 718,-309 718,-309 718,-353 718,-353 718,-359 712,-365 706,-365\"/>\r\n",
       "<text text-anchor=\"start\" x=\"618\" y=\"-349.8\" font-family=\"Helvetica,sans-Serif\" font-size=\"14.00\">sys_bp ≤ 129.0</text>\r\n",
       "<text text-anchor=\"start\" x=\"628.5\" y=\"-334.8\" font-family=\"Helvetica,sans-Serif\" font-size=\"14.00\">gini = 0.298</text>\r\n",
       "<text text-anchor=\"start\" x=\"623\" y=\"-319.8\" font-family=\"Helvetica,sans-Serif\" font-size=\"14.00\">samples = 11</text>\r\n",
       "<text text-anchor=\"start\" x=\"624.5\" y=\"-304.8\" font-family=\"Helvetica,sans-Serif\" font-size=\"14.00\">value = [2, 9]</text>\r\n",
       "</g>\r\n",
       "<!-- 21&#45;&gt;23 -->\r\n",
       "<g id=\"edge23\" class=\"edge\">\r\n",
       "<title>21&#45;&gt;23</title>\r\n",
       "<path fill=\"none\" stroke=\"black\" d=\"M581.61,-400.88C592.69,-391.62 604.85,-381.45 616.34,-371.85\"/>\r\n",
       "<polygon fill=\"black\" stroke=\"black\" points=\"618.74,-374.4 624.17,-365.3 614.25,-369.03 618.74,-374.4\"/>\r\n",
       "</g>\r\n",
       "<!-- 24 -->\r\n",
       "<g id=\"node25\" class=\"node\">\r\n",
       "<title>24</title>\r\n",
       "<path fill=\"#399de5\" stroke=\"black\" d=\"M677.5,-253.5C677.5,-253.5 606.5,-253.5 606.5,-253.5 600.5,-253.5 594.5,-247.5 594.5,-241.5 594.5,-241.5 594.5,-212.5 594.5,-212.5 594.5,-206.5 600.5,-200.5 606.5,-200.5 606.5,-200.5 677.5,-200.5 677.5,-200.5 683.5,-200.5 689.5,-206.5 689.5,-212.5 689.5,-212.5 689.5,-241.5 689.5,-241.5 689.5,-247.5 683.5,-253.5 677.5,-253.5\"/>\r\n",
       "<text text-anchor=\"start\" x=\"614\" y=\"-238.3\" font-family=\"Helvetica,sans-Serif\" font-size=\"14.00\">gini = 0.0</text>\r\n",
       "<text text-anchor=\"start\" x=\"604.5\" y=\"-223.3\" font-family=\"Helvetica,sans-Serif\" font-size=\"14.00\">samples = 5</text>\r\n",
       "<text text-anchor=\"start\" x=\"602.5\" y=\"-208.3\" font-family=\"Helvetica,sans-Serif\" font-size=\"14.00\">value = [0, 5]</text>\r\n",
       "</g>\r\n",
       "<!-- 23&#45;&gt;24 -->\r\n",
       "<g id=\"edge24\" class=\"edge\">\r\n",
       "<title>23&#45;&gt;24</title>\r\n",
       "<path fill=\"none\" stroke=\"black\" d=\"M656.86,-296.88C654.56,-286.22 652,-274.35 649.66,-263.52\"/>\r\n",
       "<polygon fill=\"black\" stroke=\"black\" points=\"653.03,-262.56 647.5,-253.52 646.19,-264.03 653.03,-262.56\"/>\r\n",
       "</g>\r\n",
       "<!-- 25 -->\r\n",
       "<g id=\"node26\" class=\"node\">\r\n",
       "<title>25</title>\r\n",
       "<path fill=\"#9ccef2\" stroke=\"black\" d=\"M794,-261C794,-261 720,-261 720,-261 714,-261 708,-255 708,-249 708,-249 708,-205 708,-205 708,-199 714,-193 720,-193 720,-193 794,-193 794,-193 800,-193 806,-199 806,-205 806,-205 806,-249 806,-249 806,-255 800,-261 794,-261\"/>\r\n",
       "<text text-anchor=\"start\" x=\"716\" y=\"-245.8\" font-family=\"Helvetica,sans-Serif\" font-size=\"14.00\">pulse ≤ 104.0</text>\r\n",
       "<text text-anchor=\"start\" x=\"721.5\" y=\"-230.8\" font-family=\"Helvetica,sans-Serif\" font-size=\"14.00\">gini = 0.444</text>\r\n",
       "<text text-anchor=\"start\" x=\"719.5\" y=\"-215.8\" font-family=\"Helvetica,sans-Serif\" font-size=\"14.00\">samples = 6</text>\r\n",
       "<text text-anchor=\"start\" x=\"717.5\" y=\"-200.8\" font-family=\"Helvetica,sans-Serif\" font-size=\"14.00\">value = [2, 4]</text>\r\n",
       "</g>\r\n",
       "<!-- 23&#45;&gt;25 -->\r\n",
       "<g id=\"edge25\" class=\"edge\">\r\n",
       "<title>23&#45;&gt;25</title>\r\n",
       "<path fill=\"none\" stroke=\"black\" d=\"M694.19,-296.88C702.32,-287.98 711.2,-278.24 719.66,-268.96\"/>\r\n",
       "<polygon fill=\"black\" stroke=\"black\" points=\"722.49,-271.05 726.64,-261.3 717.31,-266.33 722.49,-271.05\"/>\r\n",
       "</g>\r\n",
       "<!-- 26 -->\r\n",
       "<g id=\"node27\" class=\"node\">\r\n",
       "<title>26</title>\r\n",
       "<path fill=\"#399de5\" stroke=\"black\" d=\"M679.5,-149.5C679.5,-149.5 608.5,-149.5 608.5,-149.5 602.5,-149.5 596.5,-143.5 596.5,-137.5 596.5,-137.5 596.5,-108.5 596.5,-108.5 596.5,-102.5 602.5,-96.5 608.5,-96.5 608.5,-96.5 679.5,-96.5 679.5,-96.5 685.5,-96.5 691.5,-102.5 691.5,-108.5 691.5,-108.5 691.5,-137.5 691.5,-137.5 691.5,-143.5 685.5,-149.5 679.5,-149.5\"/>\r\n",
       "<text text-anchor=\"start\" x=\"616\" y=\"-134.3\" font-family=\"Helvetica,sans-Serif\" font-size=\"14.00\">gini = 0.0</text>\r\n",
       "<text text-anchor=\"start\" x=\"606.5\" y=\"-119.3\" font-family=\"Helvetica,sans-Serif\" font-size=\"14.00\">samples = 4</text>\r\n",
       "<text text-anchor=\"start\" x=\"604.5\" y=\"-104.3\" font-family=\"Helvetica,sans-Serif\" font-size=\"14.00\">value = [0, 4]</text>\r\n",
       "</g>\r\n",
       "<!-- 25&#45;&gt;26 -->\r\n",
       "<g id=\"edge26\" class=\"edge\">\r\n",
       "<title>25&#45;&gt;26</title>\r\n",
       "<path fill=\"none\" stroke=\"black\" d=\"M720.31,-192.88C707.4,-181.23 692.9,-168.14 680.04,-156.53\"/>\r\n",
       "<polygon fill=\"black\" stroke=\"black\" points=\"682.04,-153.62 672.27,-149.52 677.35,-158.82 682.04,-153.62\"/>\r\n",
       "</g>\r\n",
       "<!-- 27 -->\r\n",
       "<g id=\"node28\" class=\"node\">\r\n",
       "<title>27</title>\r\n",
       "<path fill=\"#e58139\" stroke=\"black\" d=\"M792.5,-149.5C792.5,-149.5 721.5,-149.5 721.5,-149.5 715.5,-149.5 709.5,-143.5 709.5,-137.5 709.5,-137.5 709.5,-108.5 709.5,-108.5 709.5,-102.5 715.5,-96.5 721.5,-96.5 721.5,-96.5 792.5,-96.5 792.5,-96.5 798.5,-96.5 804.5,-102.5 804.5,-108.5 804.5,-108.5 804.5,-137.5 804.5,-137.5 804.5,-143.5 798.5,-149.5 792.5,-149.5\"/>\r\n",
       "<text text-anchor=\"start\" x=\"729\" y=\"-134.3\" font-family=\"Helvetica,sans-Serif\" font-size=\"14.00\">gini = 0.0</text>\r\n",
       "<text text-anchor=\"start\" x=\"719.5\" y=\"-119.3\" font-family=\"Helvetica,sans-Serif\" font-size=\"14.00\">samples = 2</text>\r\n",
       "<text text-anchor=\"start\" x=\"717.5\" y=\"-104.3\" font-family=\"Helvetica,sans-Serif\" font-size=\"14.00\">value = [2, 0]</text>\r\n",
       "</g>\r\n",
       "<!-- 25&#45;&gt;27 -->\r\n",
       "<g id=\"edge27\" class=\"edge\">\r\n",
       "<title>25&#45;&gt;27</title>\r\n",
       "<path fill=\"none\" stroke=\"black\" d=\"M757,-192.88C757,-182.33 757,-170.6 757,-159.85\"/>\r\n",
       "<polygon fill=\"black\" stroke=\"black\" points=\"760.5,-159.52 757,-149.52 753.5,-159.52 760.5,-159.52\"/>\r\n",
       "</g>\r\n",
       "<!-- 29 -->\r\n",
       "<g id=\"node30\" class=\"node\">\r\n",
       "<title>29</title>\r\n",
       "<path fill=\"#efb083\" stroke=\"black\" d=\"M1126,-469C1126,-469 1040,-469 1040,-469 1034,-469 1028,-463 1028,-457 1028,-457 1028,-413 1028,-413 1028,-407 1034,-401 1040,-401 1040,-401 1126,-401 1126,-401 1132,-401 1138,-407 1138,-413 1138,-413 1138,-457 1138,-457 1138,-463 1132,-469 1126,-469\"/>\r\n",
       "<text text-anchor=\"start\" x=\"1040.5\" y=\"-453.8\" font-family=\"Helvetica,sans-Serif\" font-size=\"14.00\">sys_bp ≤ 83.0</text>\r\n",
       "<text text-anchor=\"start\" x=\"1047.5\" y=\"-438.8\" font-family=\"Helvetica,sans-Serif\" font-size=\"14.00\">gini = 0.396</text>\r\n",
       "<text text-anchor=\"start\" x=\"1038\" y=\"-423.8\" font-family=\"Helvetica,sans-Serif\" font-size=\"14.00\">samples = 125</text>\r\n",
       "<text text-anchor=\"start\" x=\"1036\" y=\"-408.8\" font-family=\"Helvetica,sans-Serif\" font-size=\"14.00\">value = [91, 34]</text>\r\n",
       "</g>\r\n",
       "<!-- 28&#45;&gt;29 -->\r\n",
       "<g id=\"edge29\" class=\"edge\">\r\n",
       "<title>28&#45;&gt;29</title>\r\n",
       "<path fill=\"none\" stroke=\"black\" d=\"M1083,-504.88C1083,-496.78 1083,-487.98 1083,-479.47\"/>\r\n",
       "<polygon fill=\"black\" stroke=\"black\" points=\"1086.5,-479.3 1083,-469.3 1079.5,-479.3 1086.5,-479.3\"/>\r\n",
       "</g>\r\n",
       "<!-- 50 -->\r\n",
       "<g id=\"node51\" class=\"node\">\r\n",
       "<title>50</title>\r\n",
       "<path fill=\"#63b2eb\" stroke=\"black\" d=\"M1487,-469C1487,-469 1409,-469 1409,-469 1403,-469 1397,-463 1397,-457 1397,-457 1397,-413 1397,-413 1397,-407 1403,-401 1409,-401 1409,-401 1487,-401 1487,-401 1493,-401 1499,-407 1499,-413 1499,-413 1499,-457 1499,-457 1499,-463 1493,-469 1487,-469\"/>\r\n",
       "<text text-anchor=\"start\" x=\"1411\" y=\"-453.8\" font-family=\"Helvetica,sans-Serif\" font-size=\"14.00\">pulse ≤ 94.5</text>\r\n",
       "<text text-anchor=\"start\" x=\"1412.5\" y=\"-438.8\" font-family=\"Helvetica,sans-Serif\" font-size=\"14.00\">gini = 0.291</text>\r\n",
       "<text text-anchor=\"start\" x=\"1407\" y=\"-423.8\" font-family=\"Helvetica,sans-Serif\" font-size=\"14.00\">samples = 17</text>\r\n",
       "<text text-anchor=\"start\" x=\"1405\" y=\"-408.8\" font-family=\"Helvetica,sans-Serif\" font-size=\"14.00\">value = [3, 14]</text>\r\n",
       "</g>\r\n",
       "<!-- 28&#45;&gt;50 -->\r\n",
       "<g id=\"edge50\" class=\"edge\">\r\n",
       "<title>28&#45;&gt;50</title>\r\n",
       "<path fill=\"none\" stroke=\"black\" d=\"M1138.04,-522.62C1204.95,-503.92 1317.52,-472.46 1387.01,-453.04\"/>\r\n",
       "<polygon fill=\"black\" stroke=\"black\" points=\"1388.25,-456.33 1396.94,-450.27 1386.36,-449.59 1388.25,-456.33\"/>\r\n",
       "</g>\r\n",
       "<!-- 30 -->\r\n",
       "<g id=\"node31\" class=\"node\">\r\n",
       "<title>30</title>\r\n",
       "<path fill=\"#e88e4d\" stroke=\"black\" d=\"M1033,-365C1033,-365 955,-365 955,-365 949,-365 943,-359 943,-353 943,-353 943,-309 943,-309 943,-303 949,-297 955,-297 955,-297 1033,-297 1033,-297 1039,-297 1045,-303 1045,-309 1045,-309 1045,-353 1045,-353 1045,-359 1039,-365 1033,-365\"/>\r\n",
       "<text text-anchor=\"start\" x=\"951.5\" y=\"-349.8\" font-family=\"Helvetica,sans-Serif\" font-size=\"14.00\">sys_bp ≤ 52.0</text>\r\n",
       "<text text-anchor=\"start\" x=\"962\" y=\"-334.8\" font-family=\"Helvetica,sans-Serif\" font-size=\"14.00\">gini = 0.17</text>\r\n",
       "<text text-anchor=\"start\" x=\"953\" y=\"-319.8\" font-family=\"Helvetica,sans-Serif\" font-size=\"14.00\">samples = 32</text>\r\n",
       "<text text-anchor=\"start\" x=\"951\" y=\"-304.8\" font-family=\"Helvetica,sans-Serif\" font-size=\"14.00\">value = [29, 3]</text>\r\n",
       "</g>\r\n",
       "<!-- 29&#45;&gt;30 -->\r\n",
       "<g id=\"edge30\" class=\"edge\">\r\n",
       "<title>29&#45;&gt;30</title>\r\n",
       "<path fill=\"none\" stroke=\"black\" d=\"M1054.1,-400.88C1046.33,-391.98 1037.83,-382.24 1029.74,-372.96\"/>\r\n",
       "<polygon fill=\"black\" stroke=\"black\" points=\"1032.27,-370.53 1023.06,-365.3 1026.99,-375.14 1032.27,-370.53\"/>\r\n",
       "</g>\r\n",
       "<!-- 37 -->\r\n",
       "<g id=\"node38\" class=\"node\">\r\n",
       "<title>37</title>\r\n",
       "<path fill=\"#f2c09c\" stroke=\"black\" d=\"M1215,-365C1215,-365 1129,-365 1129,-365 1123,-365 1117,-359 1117,-353 1117,-353 1117,-309 1117,-309 1117,-303 1123,-297 1129,-297 1129,-297 1215,-297 1215,-297 1221,-297 1227,-303 1227,-309 1227,-309 1227,-353 1227,-353 1227,-359 1221,-365 1215,-365\"/>\r\n",
       "<text text-anchor=\"start\" x=\"1126.5\" y=\"-349.8\" font-family=\"Helvetica,sans-Serif\" font-size=\"14.00\">sys_bp ≤ 118.0</text>\r\n",
       "<text text-anchor=\"start\" x=\"1136.5\" y=\"-334.8\" font-family=\"Helvetica,sans-Serif\" font-size=\"14.00\">gini = 0.444</text>\r\n",
       "<text text-anchor=\"start\" x=\"1131\" y=\"-319.8\" font-family=\"Helvetica,sans-Serif\" font-size=\"14.00\">samples = 93</text>\r\n",
       "<text text-anchor=\"start\" x=\"1125\" y=\"-304.8\" font-family=\"Helvetica,sans-Serif\" font-size=\"14.00\">value = [62, 31]</text>\r\n",
       "</g>\r\n",
       "<!-- 29&#45;&gt;37 -->\r\n",
       "<g id=\"edge37\" class=\"edge\">\r\n",
       "<title>29&#45;&gt;37</title>\r\n",
       "<path fill=\"none\" stroke=\"black\" d=\"M1111.9,-400.88C1119.67,-391.98 1128.17,-382.24 1136.26,-372.96\"/>\r\n",
       "<polygon fill=\"black\" stroke=\"black\" points=\"1139.01,-375.14 1142.94,-365.3 1133.73,-370.53 1139.01,-375.14\"/>\r\n",
       "</g>\r\n",
       "<!-- 31 -->\r\n",
       "<g id=\"node32\" class=\"node\">\r\n",
       "<title>31</title>\r\n",
       "<path fill=\"#399de5\" stroke=\"black\" d=\"M912.5,-253.5C912.5,-253.5 841.5,-253.5 841.5,-253.5 835.5,-253.5 829.5,-247.5 829.5,-241.5 829.5,-241.5 829.5,-212.5 829.5,-212.5 829.5,-206.5 835.5,-200.5 841.5,-200.5 841.5,-200.5 912.5,-200.5 912.5,-200.5 918.5,-200.5 924.5,-206.5 924.5,-212.5 924.5,-212.5 924.5,-241.5 924.5,-241.5 924.5,-247.5 918.5,-253.5 912.5,-253.5\"/>\r\n",
       "<text text-anchor=\"start\" x=\"849\" y=\"-238.3\" font-family=\"Helvetica,sans-Serif\" font-size=\"14.00\">gini = 0.0</text>\r\n",
       "<text text-anchor=\"start\" x=\"839.5\" y=\"-223.3\" font-family=\"Helvetica,sans-Serif\" font-size=\"14.00\">samples = 1</text>\r\n",
       "<text text-anchor=\"start\" x=\"837.5\" y=\"-208.3\" font-family=\"Helvetica,sans-Serif\" font-size=\"14.00\">value = [0, 1]</text>\r\n",
       "</g>\r\n",
       "<!-- 30&#45;&gt;31 -->\r\n",
       "<g id=\"edge31\" class=\"edge\">\r\n",
       "<title>30&#45;&gt;31</title>\r\n",
       "<path fill=\"none\" stroke=\"black\" d=\"M956.01,-296.88C942.52,-285.12 927.35,-271.89 913.94,-260.2\"/>\r\n",
       "<polygon fill=\"black\" stroke=\"black\" points=\"916.11,-257.45 906.27,-253.52 911.51,-262.73 916.11,-257.45\"/>\r\n",
       "</g>\r\n",
       "<!-- 32 -->\r\n",
       "<g id=\"node33\" class=\"node\">\r\n",
       "<title>32</title>\r\n",
       "<path fill=\"#e78a47\" stroke=\"black\" d=\"M1033,-261C1033,-261 955,-261 955,-261 949,-261 943,-255 943,-249 943,-249 943,-205 943,-205 943,-199 949,-193 955,-193 955,-193 1033,-193 1033,-193 1039,-193 1045,-199 1045,-205 1045,-205 1045,-249 1045,-249 1045,-255 1039,-261 1033,-261\"/>\r\n",
       "<text text-anchor=\"start\" x=\"953\" y=\"-245.8\" font-family=\"Helvetica,sans-Serif\" font-size=\"14.00\">pulse ≤ 121.0</text>\r\n",
       "<text text-anchor=\"start\" x=\"958.5\" y=\"-230.8\" font-family=\"Helvetica,sans-Serif\" font-size=\"14.00\">gini = 0.121</text>\r\n",
       "<text text-anchor=\"start\" x=\"953\" y=\"-215.8\" font-family=\"Helvetica,sans-Serif\" font-size=\"14.00\">samples = 31</text>\r\n",
       "<text text-anchor=\"start\" x=\"951\" y=\"-200.8\" font-family=\"Helvetica,sans-Serif\" font-size=\"14.00\">value = [29, 2]</text>\r\n",
       "</g>\r\n",
       "<!-- 30&#45;&gt;32 -->\r\n",
       "<g id=\"edge32\" class=\"edge\">\r\n",
       "<title>30&#45;&gt;32</title>\r\n",
       "<path fill=\"none\" stroke=\"black\" d=\"M994,-296.88C994,-288.78 994,-279.98 994,-271.47\"/>\r\n",
       "<polygon fill=\"black\" stroke=\"black\" points=\"997.5,-271.3 994,-261.3 990.5,-271.3 997.5,-271.3\"/>\r\n",
       "</g>\r\n",
       "<!-- 33 -->\r\n",
       "<g id=\"node34\" class=\"node\">\r\n",
       "<title>33</title>\r\n",
       "<path fill=\"#e58139\" stroke=\"black\" d=\"M913,-149.5C913,-149.5 835,-149.5 835,-149.5 829,-149.5 823,-143.5 823,-137.5 823,-137.5 823,-108.5 823,-108.5 823,-102.5 829,-96.5 835,-96.5 835,-96.5 913,-96.5 913,-96.5 919,-96.5 925,-102.5 925,-108.5 925,-108.5 925,-137.5 925,-137.5 925,-143.5 919,-149.5 913,-149.5\"/>\r\n",
       "<text text-anchor=\"start\" x=\"846\" y=\"-134.3\" font-family=\"Helvetica,sans-Serif\" font-size=\"14.00\">gini = 0.0</text>\r\n",
       "<text text-anchor=\"start\" x=\"833\" y=\"-119.3\" font-family=\"Helvetica,sans-Serif\" font-size=\"14.00\">samples = 26</text>\r\n",
       "<text text-anchor=\"start\" x=\"831\" y=\"-104.3\" font-family=\"Helvetica,sans-Serif\" font-size=\"14.00\">value = [26, 0]</text>\r\n",
       "</g>\r\n",
       "<!-- 32&#45;&gt;33 -->\r\n",
       "<g id=\"edge33\" class=\"edge\">\r\n",
       "<title>32&#45;&gt;33</title>\r\n",
       "<path fill=\"none\" stroke=\"black\" d=\"M955.04,-192.88C941.2,-181.12 925.64,-167.89 911.89,-156.2\"/>\r\n",
       "<polygon fill=\"black\" stroke=\"black\" points=\"913.91,-153.33 904.02,-149.52 909.38,-158.66 913.91,-153.33\"/>\r\n",
       "</g>\r\n",
       "<!-- 34 -->\r\n",
       "<g id=\"node35\" class=\"node\">\r\n",
       "<title>34</title>\r\n",
       "<path fill=\"#f6d5bd\" stroke=\"black\" d=\"M1032.5,-157C1032.5,-157 955.5,-157 955.5,-157 949.5,-157 943.5,-151 943.5,-145 943.5,-145 943.5,-101 943.5,-101 943.5,-95 949.5,-89 955.5,-89 955.5,-89 1032.5,-89 1032.5,-89 1038.5,-89 1044.5,-95 1044.5,-101 1044.5,-101 1044.5,-145 1044.5,-145 1044.5,-151 1038.5,-157 1032.5,-157\"/>\r\n",
       "<text text-anchor=\"start\" x=\"951.5\" y=\"-141.8\" font-family=\"Helvetica,sans-Serif\" font-size=\"14.00\">sys_bp ≤ 66.0</text>\r\n",
       "<text text-anchor=\"start\" x=\"962\" y=\"-126.8\" font-family=\"Helvetica,sans-Serif\" font-size=\"14.00\">gini = 0.48</text>\r\n",
       "<text text-anchor=\"start\" x=\"956.5\" y=\"-111.8\" font-family=\"Helvetica,sans-Serif\" font-size=\"14.00\">samples = 5</text>\r\n",
       "<text text-anchor=\"start\" x=\"954.5\" y=\"-96.8\" font-family=\"Helvetica,sans-Serif\" font-size=\"14.00\">value = [3, 2]</text>\r\n",
       "</g>\r\n",
       "<!-- 32&#45;&gt;34 -->\r\n",
       "<g id=\"edge34\" class=\"edge\">\r\n",
       "<title>32&#45;&gt;34</title>\r\n",
       "<path fill=\"none\" stroke=\"black\" d=\"M994,-192.88C994,-184.78 994,-175.98 994,-167.47\"/>\r\n",
       "<polygon fill=\"black\" stroke=\"black\" points=\"997.5,-167.3 994,-157.3 990.5,-167.3 997.5,-167.3\"/>\r\n",
       "</g>\r\n",
       "<!-- 35 -->\r\n",
       "<g id=\"node36\" class=\"node\">\r\n",
       "<title>35</title>\r\n",
       "<path fill=\"#e58139\" stroke=\"black\" d=\"M919.5,-53C919.5,-53 848.5,-53 848.5,-53 842.5,-53 836.5,-47 836.5,-41 836.5,-41 836.5,-12 836.5,-12 836.5,-6 842.5,0 848.5,0 848.5,0 919.5,0 919.5,0 925.5,0 931.5,-6 931.5,-12 931.5,-12 931.5,-41 931.5,-41 931.5,-47 925.5,-53 919.5,-53\"/>\r\n",
       "<text text-anchor=\"start\" x=\"856\" y=\"-37.8\" font-family=\"Helvetica,sans-Serif\" font-size=\"14.00\">gini = 0.0</text>\r\n",
       "<text text-anchor=\"start\" x=\"846.5\" y=\"-22.8\" font-family=\"Helvetica,sans-Serif\" font-size=\"14.00\">samples = 3</text>\r\n",
       "<text text-anchor=\"start\" x=\"844.5\" y=\"-7.8\" font-family=\"Helvetica,sans-Serif\" font-size=\"14.00\">value = [3, 0]</text>\r\n",
       "</g>\r\n",
       "<!-- 34&#45;&gt;35 -->\r\n",
       "<g id=\"edge35\" class=\"edge\">\r\n",
       "<title>34&#45;&gt;35</title>\r\n",
       "<path fill=\"none\" stroke=\"black\" d=\"M955.53,-88.95C944.56,-79.53 932.62,-69.27 921.7,-59.89\"/>\r\n",
       "<polygon fill=\"black\" stroke=\"black\" points=\"923.82,-57.1 913.96,-53.24 919.26,-62.41 923.82,-57.1\"/>\r\n",
       "</g>\r\n",
       "<!-- 36 -->\r\n",
       "<g id=\"node37\" class=\"node\">\r\n",
       "<title>36</title>\r\n",
       "<path fill=\"#399de5\" stroke=\"black\" d=\"M1032.5,-53C1032.5,-53 961.5,-53 961.5,-53 955.5,-53 949.5,-47 949.5,-41 949.5,-41 949.5,-12 949.5,-12 949.5,-6 955.5,0 961.5,0 961.5,0 1032.5,0 1032.5,0 1038.5,0 1044.5,-6 1044.5,-12 1044.5,-12 1044.5,-41 1044.5,-41 1044.5,-47 1038.5,-53 1032.5,-53\"/>\r\n",
       "<text text-anchor=\"start\" x=\"969\" y=\"-37.8\" font-family=\"Helvetica,sans-Serif\" font-size=\"14.00\">gini = 0.0</text>\r\n",
       "<text text-anchor=\"start\" x=\"959.5\" y=\"-22.8\" font-family=\"Helvetica,sans-Serif\" font-size=\"14.00\">samples = 2</text>\r\n",
       "<text text-anchor=\"start\" x=\"957.5\" y=\"-7.8\" font-family=\"Helvetica,sans-Serif\" font-size=\"14.00\">value = [0, 2]</text>\r\n",
       "</g>\r\n",
       "<!-- 34&#45;&gt;36 -->\r\n",
       "<g id=\"edge36\" class=\"edge\">\r\n",
       "<title>34&#45;&gt;36</title>\r\n",
       "<path fill=\"none\" stroke=\"black\" d=\"M995.05,-88.95C995.31,-80.72 995.59,-71.85 995.86,-63.48\"/>\r\n",
       "<polygon fill=\"black\" stroke=\"black\" points=\"999.36,-63.34 996.18,-53.24 992.37,-63.12 999.36,-63.34\"/>\r\n",
       "</g>\r\n",
       "<!-- 38 -->\r\n",
       "<g id=\"node39\" class=\"node\">\r\n",
       "<title>38</title>\r\n",
       "<path fill=\"#fdf7f2\" stroke=\"black\" d=\"M1215,-261C1215,-261 1129,-261 1129,-261 1123,-261 1117,-255 1117,-249 1117,-249 1117,-205 1117,-205 1117,-199 1123,-193 1129,-193 1129,-193 1215,-193 1215,-193 1221,-193 1227,-199 1227,-205 1227,-205 1227,-249 1227,-249 1227,-255 1221,-261 1215,-261\"/>\r\n",
       "<text text-anchor=\"start\" x=\"1135\" y=\"-245.8\" font-family=\"Helvetica,sans-Serif\" font-size=\"14.00\">pulse ≤ 80.5</text>\r\n",
       "<text text-anchor=\"start\" x=\"1136.5\" y=\"-230.8\" font-family=\"Helvetica,sans-Serif\" font-size=\"14.00\">gini = 0.499</text>\r\n",
       "<text text-anchor=\"start\" x=\"1131\" y=\"-215.8\" font-family=\"Helvetica,sans-Serif\" font-size=\"14.00\">samples = 29</text>\r\n",
       "<text text-anchor=\"start\" x=\"1125\" y=\"-200.8\" font-family=\"Helvetica,sans-Serif\" font-size=\"14.00\">value = [15, 14]</text>\r\n",
       "</g>\r\n",
       "<!-- 37&#45;&gt;38 -->\r\n",
       "<g id=\"edge38\" class=\"edge\">\r\n",
       "<title>37&#45;&gt;38</title>\r\n",
       "<path fill=\"none\" stroke=\"black\" d=\"M1172,-296.88C1172,-288.78 1172,-279.98 1172,-271.47\"/>\r\n",
       "<polygon fill=\"black\" stroke=\"black\" points=\"1175.5,-271.3 1172,-261.3 1168.5,-271.3 1175.5,-271.3\"/>\r\n",
       "</g>\r\n",
       "<!-- 43 -->\r\n",
       "<g id=\"node44\" class=\"node\">\r\n",
       "<title>43</title>\r\n",
       "<path fill=\"#eeaf81\" stroke=\"black\" d=\"M1370,-261C1370,-261 1284,-261 1284,-261 1278,-261 1272,-255 1272,-249 1272,-249 1272,-205 1272,-205 1272,-199 1278,-193 1284,-193 1284,-193 1370,-193 1370,-193 1376,-193 1382,-199 1382,-205 1382,-205 1382,-249 1382,-249 1382,-255 1376,-261 1370,-261\"/>\r\n",
       "<text text-anchor=\"start\" x=\"1286\" y=\"-245.8\" font-family=\"Helvetica,sans-Serif\" font-size=\"14.00\">pulse ≤ 101.5</text>\r\n",
       "<text text-anchor=\"start\" x=\"1295\" y=\"-230.8\" font-family=\"Helvetica,sans-Serif\" font-size=\"14.00\">gini = 0.39</text>\r\n",
       "<text text-anchor=\"start\" x=\"1286\" y=\"-215.8\" font-family=\"Helvetica,sans-Serif\" font-size=\"14.00\">samples = 64</text>\r\n",
       "<text text-anchor=\"start\" x=\"1280\" y=\"-200.8\" font-family=\"Helvetica,sans-Serif\" font-size=\"14.00\">value = [47, 17]</text>\r\n",
       "</g>\r\n",
       "<!-- 37&#45;&gt;43 -->\r\n",
       "<g id=\"edge43\" class=\"edge\">\r\n",
       "<title>37&#45;&gt;43</title>\r\n",
       "<path fill=\"none\" stroke=\"black\" d=\"M1222.32,-296.88C1236.88,-287.3 1252.9,-276.76 1267.94,-266.86\"/>\r\n",
       "<polygon fill=\"black\" stroke=\"black\" points=\"1270.23,-269.55 1276.66,-261.12 1266.39,-263.7 1270.23,-269.55\"/>\r\n",
       "</g>\r\n",
       "<!-- 39 -->\r\n",
       "<g id=\"node40\" class=\"node\">\r\n",
       "<title>39</title>\r\n",
       "<path fill=\"#399de5\" stroke=\"black\" d=\"M1145.5,-149.5C1145.5,-149.5 1074.5,-149.5 1074.5,-149.5 1068.5,-149.5 1062.5,-143.5 1062.5,-137.5 1062.5,-137.5 1062.5,-108.5 1062.5,-108.5 1062.5,-102.5 1068.5,-96.5 1074.5,-96.5 1074.5,-96.5 1145.5,-96.5 1145.5,-96.5 1151.5,-96.5 1157.5,-102.5 1157.5,-108.5 1157.5,-108.5 1157.5,-137.5 1157.5,-137.5 1157.5,-143.5 1151.5,-149.5 1145.5,-149.5\"/>\r\n",
       "<text text-anchor=\"start\" x=\"1082\" y=\"-134.3\" font-family=\"Helvetica,sans-Serif\" font-size=\"14.00\">gini = 0.0</text>\r\n",
       "<text text-anchor=\"start\" x=\"1072.5\" y=\"-119.3\" font-family=\"Helvetica,sans-Serif\" font-size=\"14.00\">samples = 3</text>\r\n",
       "<text text-anchor=\"start\" x=\"1070.5\" y=\"-104.3\" font-family=\"Helvetica,sans-Serif\" font-size=\"14.00\">value = [0, 3]</text>\r\n",
       "</g>\r\n",
       "<!-- 38&#45;&gt;39 -->\r\n",
       "<g id=\"edge39\" class=\"edge\">\r\n",
       "<title>38&#45;&gt;39</title>\r\n",
       "<path fill=\"none\" stroke=\"black\" d=\"M1151.87,-192.88C1145.12,-181.78 1137.58,-169.37 1130.78,-158.18\"/>\r\n",
       "<polygon fill=\"black\" stroke=\"black\" points=\"1133.7,-156.25 1125.51,-149.52 1127.72,-159.88 1133.7,-156.25\"/>\r\n",
       "</g>\r\n",
       "<!-- 40 -->\r\n",
       "<g id=\"node41\" class=\"node\">\r\n",
       "<title>40</title>\r\n",
       "<path fill=\"#f8ddca\" stroke=\"black\" d=\"M1272.5,-157C1272.5,-157 1187.5,-157 1187.5,-157 1181.5,-157 1175.5,-151 1175.5,-145 1175.5,-145 1175.5,-101 1175.5,-101 1175.5,-95 1181.5,-89 1187.5,-89 1187.5,-89 1272.5,-89 1272.5,-89 1278.5,-89 1284.5,-95 1284.5,-101 1284.5,-101 1284.5,-145 1284.5,-145 1284.5,-151 1278.5,-157 1272.5,-157\"/>\r\n",
       "<text text-anchor=\"start\" x=\"1193\" y=\"-141.8\" font-family=\"Helvetica,sans-Serif\" font-size=\"14.00\">pulse ≤ 85.5</text>\r\n",
       "<text text-anchor=\"start\" x=\"1194.5\" y=\"-126.8\" font-family=\"Helvetica,sans-Serif\" font-size=\"14.00\">gini = 0.488</text>\r\n",
       "<text text-anchor=\"start\" x=\"1189\" y=\"-111.8\" font-family=\"Helvetica,sans-Serif\" font-size=\"14.00\">samples = 26</text>\r\n",
       "<text text-anchor=\"start\" x=\"1183.5\" y=\"-96.8\" font-family=\"Helvetica,sans-Serif\" font-size=\"14.00\">value = [15, 11]</text>\r\n",
       "</g>\r\n",
       "<!-- 38&#45;&gt;40 -->\r\n",
       "<g id=\"edge40\" class=\"edge\">\r\n",
       "<title>38&#45;&gt;40</title>\r\n",
       "<path fill=\"none\" stroke=\"black\" d=\"M1190.83,-192.88C1195.69,-184.33 1200.99,-175.01 1206.08,-166.07\"/>\r\n",
       "<polygon fill=\"black\" stroke=\"black\" points=\"1209.16,-167.72 1211.07,-157.3 1203.08,-164.26 1209.16,-167.72\"/>\r\n",
       "</g>\r\n",
       "<!-- 41 -->\r\n",
       "<g id=\"node42\" class=\"node\">\r\n",
       "<title>41</title>\r\n",
       "<path fill=\"#e58139\" stroke=\"black\" d=\"M1149.5,-53C1149.5,-53 1078.5,-53 1078.5,-53 1072.5,-53 1066.5,-47 1066.5,-41 1066.5,-41 1066.5,-12 1066.5,-12 1066.5,-6 1072.5,0 1078.5,0 1078.5,0 1149.5,0 1149.5,0 1155.5,0 1161.5,-6 1161.5,-12 1161.5,-12 1161.5,-41 1161.5,-41 1161.5,-47 1155.5,-53 1149.5,-53\"/>\r\n",
       "<text text-anchor=\"start\" x=\"1086\" y=\"-37.8\" font-family=\"Helvetica,sans-Serif\" font-size=\"14.00\">gini = 0.0</text>\r\n",
       "<text text-anchor=\"start\" x=\"1076.5\" y=\"-22.8\" font-family=\"Helvetica,sans-Serif\" font-size=\"14.00\">samples = 6</text>\r\n",
       "<text text-anchor=\"start\" x=\"1074.5\" y=\"-7.8\" font-family=\"Helvetica,sans-Serif\" font-size=\"14.00\">value = [6, 0]</text>\r\n",
       "</g>\r\n",
       "<!-- 40&#45;&gt;41 -->\r\n",
       "<g id=\"edge41\" class=\"edge\">\r\n",
       "<title>40&#45;&gt;41</title>\r\n",
       "<path fill=\"none\" stroke=\"black\" d=\"M1189.43,-88.95C1177.75,-79.43 1165.03,-69.07 1153.42,-59.62\"/>\r\n",
       "<polygon fill=\"black\" stroke=\"black\" points=\"1155.56,-56.84 1145.59,-53.24 1151.13,-62.27 1155.56,-56.84\"/>\r\n",
       "</g>\r\n",
       "<!-- 42 -->\r\n",
       "<g id=\"node43\" class=\"node\">\r\n",
       "<title>42</title>\r\n",
       "<path fill=\"#dbedfa\" stroke=\"black\" d=\"M1268.5,-53C1268.5,-53 1191.5,-53 1191.5,-53 1185.5,-53 1179.5,-47 1179.5,-41 1179.5,-41 1179.5,-12 1179.5,-12 1179.5,-6 1185.5,0 1191.5,0 1191.5,0 1268.5,0 1268.5,0 1274.5,0 1280.5,-6 1280.5,-12 1280.5,-12 1280.5,-41 1280.5,-41 1280.5,-47 1274.5,-53 1268.5,-53\"/>\r\n",
       "<text text-anchor=\"start\" x=\"1194.5\" y=\"-37.8\" font-family=\"Helvetica,sans-Serif\" font-size=\"14.00\">gini = 0.495</text>\r\n",
       "<text text-anchor=\"start\" x=\"1189\" y=\"-22.8\" font-family=\"Helvetica,sans-Serif\" font-size=\"14.00\">samples = 20</text>\r\n",
       "<text text-anchor=\"start\" x=\"1187.5\" y=\"-7.8\" font-family=\"Helvetica,sans-Serif\" font-size=\"14.00\">value = [9, 11]</text>\r\n",
       "</g>\r\n",
       "<!-- 40&#45;&gt;42 -->\r\n",
       "<g id=\"edge42\" class=\"edge\">\r\n",
       "<title>40&#45;&gt;42</title>\r\n",
       "<path fill=\"none\" stroke=\"black\" d=\"M1230,-88.95C1230,-80.72 1230,-71.85 1230,-63.48\"/>\r\n",
       "<polygon fill=\"black\" stroke=\"black\" points=\"1233.5,-63.24 1230,-53.24 1226.5,-63.24 1233.5,-63.24\"/>\r\n",
       "</g>\r\n",
       "<!-- 44 -->\r\n",
       "<g id=\"node45\" class=\"node\">\r\n",
       "<title>44</title>\r\n",
       "<path fill=\"#eb9f69\" stroke=\"black\" d=\"M1393,-157C1393,-157 1315,-157 1315,-157 1309,-157 1303,-151 1303,-145 1303,-145 1303,-101 1303,-101 1303,-95 1309,-89 1315,-89 1315,-89 1393,-89 1393,-89 1399,-89 1405,-95 1405,-101 1405,-101 1405,-145 1405,-145 1405,-151 1399,-157 1393,-157\"/>\r\n",
       "<text text-anchor=\"start\" x=\"1317\" y=\"-141.8\" font-family=\"Helvetica,sans-Serif\" font-size=\"14.00\">pulse ≤ 95.5</text>\r\n",
       "<text text-anchor=\"start\" x=\"1318.5\" y=\"-126.8\" font-family=\"Helvetica,sans-Serif\" font-size=\"14.00\">gini = 0.313</text>\r\n",
       "<text text-anchor=\"start\" x=\"1313\" y=\"-111.8\" font-family=\"Helvetica,sans-Serif\" font-size=\"14.00\">samples = 36</text>\r\n",
       "<text text-anchor=\"start\" x=\"1311\" y=\"-96.8\" font-family=\"Helvetica,sans-Serif\" font-size=\"14.00\">value = [29, 7]</text>\r\n",
       "</g>\r\n",
       "<!-- 43&#45;&gt;44 -->\r\n",
       "<g id=\"edge44\" class=\"edge\">\r\n",
       "<title>43&#45;&gt;44</title>\r\n",
       "<path fill=\"none\" stroke=\"black\" d=\"M1335.77,-192.88C1337.94,-184.69 1340.29,-175.79 1342.57,-167.19\"/>\r\n",
       "<polygon fill=\"black\" stroke=\"black\" points=\"1346.01,-167.86 1345.19,-157.3 1339.24,-166.07 1346.01,-167.86\"/>\r\n",
       "</g>\r\n",
       "<!-- 47 -->\r\n",
       "<g id=\"node48\" class=\"node\">\r\n",
       "<title>47</title>\r\n",
       "<path fill=\"#f3c7a7\" stroke=\"black\" d=\"M1630,-157C1630,-157 1544,-157 1544,-157 1538,-157 1532,-151 1532,-145 1532,-145 1532,-101 1532,-101 1532,-95 1538,-89 1544,-89 1544,-89 1630,-89 1630,-89 1636,-89 1642,-95 1642,-101 1642,-101 1642,-145 1642,-145 1642,-151 1636,-157 1630,-157\"/>\r\n",
       "<text text-anchor=\"start\" x=\"1541\" y=\"-141.8\" font-family=\"Helvetica,sans-Serif\" font-size=\"14.00\">sys_bp ≤ 129.0</text>\r\n",
       "<text text-anchor=\"start\" x=\"1551.5\" y=\"-126.8\" font-family=\"Helvetica,sans-Serif\" font-size=\"14.00\">gini = 0.459</text>\r\n",
       "<text text-anchor=\"start\" x=\"1546\" y=\"-111.8\" font-family=\"Helvetica,sans-Serif\" font-size=\"14.00\">samples = 28</text>\r\n",
       "<text text-anchor=\"start\" x=\"1540\" y=\"-96.8\" font-family=\"Helvetica,sans-Serif\" font-size=\"14.00\">value = [18, 10]</text>\r\n",
       "</g>\r\n",
       "<!-- 43&#45;&gt;47 -->\r\n",
       "<g id=\"edge47\" class=\"edge\">\r\n",
       "<title>43&#45;&gt;47</title>\r\n",
       "<path fill=\"none\" stroke=\"black\" d=\"M1382.28,-196.91C1385.21,-195.55 1388.13,-194.24 1391,-193 1433.9,-174.49 1483.57,-157.05 1522.17,-144.33\"/>\r\n",
       "<polygon fill=\"black\" stroke=\"black\" points=\"1523.31,-147.64 1531.73,-141.2 1521.14,-140.99 1523.31,-147.64\"/>\r\n",
       "</g>\r\n",
       "<!-- 45 -->\r\n",
       "<g id=\"node46\" class=\"node\">\r\n",
       "<title>45</title>\r\n",
       "<path fill=\"#f2c09c\" stroke=\"black\" d=\"M1389,-53C1389,-53 1311,-53 1311,-53 1305,-53 1299,-47 1299,-41 1299,-41 1299,-12 1299,-12 1299,-6 1305,0 1311,0 1311,0 1389,0 1389,0 1395,0 1401,-6 1401,-12 1401,-12 1401,-41 1401,-41 1401,-47 1395,-53 1389,-53\"/>\r\n",
       "<text text-anchor=\"start\" x=\"1314.5\" y=\"-37.8\" font-family=\"Helvetica,sans-Serif\" font-size=\"14.00\">gini = 0.444</text>\r\n",
       "<text text-anchor=\"start\" x=\"1309\" y=\"-22.8\" font-family=\"Helvetica,sans-Serif\" font-size=\"14.00\">samples = 21</text>\r\n",
       "<text text-anchor=\"start\" x=\"1307\" y=\"-7.8\" font-family=\"Helvetica,sans-Serif\" font-size=\"14.00\">value = [14, 7]</text>\r\n",
       "</g>\r\n",
       "<!-- 44&#45;&gt;45 -->\r\n",
       "<g id=\"edge45\" class=\"edge\">\r\n",
       "<title>44&#45;&gt;45</title>\r\n",
       "<path fill=\"none\" stroke=\"black\" d=\"M1352.6,-88.95C1352.25,-80.72 1351.88,-71.85 1351.52,-63.48\"/>\r\n",
       "<polygon fill=\"black\" stroke=\"black\" points=\"1355.01,-63.08 1351.09,-53.24 1348.02,-63.38 1355.01,-63.08\"/>\r\n",
       "</g>\r\n",
       "<!-- 46 -->\r\n",
       "<g id=\"node47\" class=\"node\">\r\n",
       "<title>46</title>\r\n",
       "<path fill=\"#e58139\" stroke=\"black\" d=\"M1509,-53C1509,-53 1431,-53 1431,-53 1425,-53 1419,-47 1419,-41 1419,-41 1419,-12 1419,-12 1419,-6 1425,0 1431,0 1431,0 1509,0 1509,0 1515,0 1521,-6 1521,-12 1521,-12 1521,-41 1521,-41 1521,-47 1515,-53 1509,-53\"/>\r\n",
       "<text text-anchor=\"start\" x=\"1442\" y=\"-37.8\" font-family=\"Helvetica,sans-Serif\" font-size=\"14.00\">gini = 0.0</text>\r\n",
       "<text text-anchor=\"start\" x=\"1429\" y=\"-22.8\" font-family=\"Helvetica,sans-Serif\" font-size=\"14.00\">samples = 15</text>\r\n",
       "<text text-anchor=\"start\" x=\"1427\" y=\"-7.8\" font-family=\"Helvetica,sans-Serif\" font-size=\"14.00\">value = [15, 0]</text>\r\n",
       "</g>\r\n",
       "<!-- 44&#45;&gt;46 -->\r\n",
       "<g id=\"edge46\" class=\"edge\">\r\n",
       "<title>44&#45;&gt;46</title>\r\n",
       "<path fill=\"none\" stroke=\"black\" d=\"M1394.57,-88.95C1406.25,-79.43 1418.97,-69.07 1430.58,-59.62\"/>\r\n",
       "<polygon fill=\"black\" stroke=\"black\" points=\"1432.87,-62.27 1438.41,-53.24 1428.44,-56.84 1432.87,-62.27\"/>\r\n",
       "</g>\r\n",
       "<!-- 48 -->\r\n",
       "<g id=\"node49\" class=\"node\">\r\n",
       "<title>48</title>\r\n",
       "<path fill=\"#399de5\" stroke=\"black\" d=\"M1622.5,-53C1622.5,-53 1551.5,-53 1551.5,-53 1545.5,-53 1539.5,-47 1539.5,-41 1539.5,-41 1539.5,-12 1539.5,-12 1539.5,-6 1545.5,0 1551.5,0 1551.5,0 1622.5,0 1622.5,0 1628.5,0 1634.5,-6 1634.5,-12 1634.5,-12 1634.5,-41 1634.5,-41 1634.5,-47 1628.5,-53 1622.5,-53\"/>\r\n",
       "<text text-anchor=\"start\" x=\"1559\" y=\"-37.8\" font-family=\"Helvetica,sans-Serif\" font-size=\"14.00\">gini = 0.0</text>\r\n",
       "<text text-anchor=\"start\" x=\"1549.5\" y=\"-22.8\" font-family=\"Helvetica,sans-Serif\" font-size=\"14.00\">samples = 6</text>\r\n",
       "<text text-anchor=\"start\" x=\"1547.5\" y=\"-7.8\" font-family=\"Helvetica,sans-Serif\" font-size=\"14.00\">value = [0, 6]</text>\r\n",
       "</g>\r\n",
       "<!-- 47&#45;&gt;48 -->\r\n",
       "<g id=\"edge48\" class=\"edge\">\r\n",
       "<title>47&#45;&gt;48</title>\r\n",
       "<path fill=\"none\" stroke=\"black\" d=\"M1587,-88.95C1587,-80.72 1587,-71.85 1587,-63.48\"/>\r\n",
       "<polygon fill=\"black\" stroke=\"black\" points=\"1590.5,-63.24 1587,-53.24 1583.5,-63.24 1590.5,-63.24\"/>\r\n",
       "</g>\r\n",
       "<!-- 49 -->\r\n",
       "<g id=\"node50\" class=\"node\">\r\n",
       "<title>49</title>\r\n",
       "<path fill=\"#eb9d65\" stroke=\"black\" d=\"M1743,-53C1743,-53 1665,-53 1665,-53 1659,-53 1653,-47 1653,-41 1653,-41 1653,-12 1653,-12 1653,-6 1659,0 1665,0 1665,0 1743,0 1743,0 1749,0 1755,-6 1755,-12 1755,-12 1755,-41 1755,-41 1755,-47 1749,-53 1743,-53\"/>\r\n",
       "<text text-anchor=\"start\" x=\"1668.5\" y=\"-37.8\" font-family=\"Helvetica,sans-Serif\" font-size=\"14.00\">gini = 0.298</text>\r\n",
       "<text text-anchor=\"start\" x=\"1663\" y=\"-22.8\" font-family=\"Helvetica,sans-Serif\" font-size=\"14.00\">samples = 22</text>\r\n",
       "<text text-anchor=\"start\" x=\"1661\" y=\"-7.8\" font-family=\"Helvetica,sans-Serif\" font-size=\"14.00\">value = [18, 4]</text>\r\n",
       "</g>\r\n",
       "<!-- 47&#45;&gt;49 -->\r\n",
       "<g id=\"edge49\" class=\"edge\">\r\n",
       "<title>47&#45;&gt;49</title>\r\n",
       "<path fill=\"none\" stroke=\"black\" d=\"M1627.92,-88.95C1639.7,-79.43 1652.53,-69.07 1664.24,-59.62\"/>\r\n",
       "<polygon fill=\"black\" stroke=\"black\" points=\"1666.56,-62.24 1672.14,-53.24 1662.16,-56.8 1666.56,-62.24\"/>\r\n",
       "</g>\r\n",
       "<!-- 51 -->\r\n",
       "<g id=\"node52\" class=\"node\">\r\n",
       "<title>51</title>\r\n",
       "<path fill=\"#cee6f8\" stroke=\"black\" d=\"M1483.5,-365C1483.5,-365 1412.5,-365 1412.5,-365 1406.5,-365 1400.5,-359 1400.5,-353 1400.5,-353 1400.5,-309 1400.5,-309 1400.5,-303 1406.5,-297 1412.5,-297 1412.5,-297 1483.5,-297 1483.5,-297 1489.5,-297 1495.5,-303 1495.5,-309 1495.5,-309 1495.5,-353 1495.5,-353 1495.5,-359 1489.5,-365 1483.5,-365\"/>\r\n",
       "<text text-anchor=\"start\" x=\"1411\" y=\"-349.8\" font-family=\"Helvetica,sans-Serif\" font-size=\"14.00\">pulse ≤ 92.0</text>\r\n",
       "<text text-anchor=\"start\" x=\"1416\" y=\"-334.8\" font-family=\"Helvetica,sans-Serif\" font-size=\"14.00\">gini = 0.49</text>\r\n",
       "<text text-anchor=\"start\" x=\"1410.5\" y=\"-319.8\" font-family=\"Helvetica,sans-Serif\" font-size=\"14.00\">samples = 7</text>\r\n",
       "<text text-anchor=\"start\" x=\"1408.5\" y=\"-304.8\" font-family=\"Helvetica,sans-Serif\" font-size=\"14.00\">value = [3, 4]</text>\r\n",
       "</g>\r\n",
       "<!-- 50&#45;&gt;51 -->\r\n",
       "<g id=\"edge51\" class=\"edge\">\r\n",
       "<title>50&#45;&gt;51</title>\r\n",
       "<path fill=\"none\" stroke=\"black\" d=\"M1448,-400.88C1448,-392.78 1448,-383.98 1448,-375.47\"/>\r\n",
       "<polygon fill=\"black\" stroke=\"black\" points=\"1451.5,-375.3 1448,-365.3 1444.5,-375.3 1451.5,-375.3\"/>\r\n",
       "</g>\r\n",
       "<!-- 54 -->\r\n",
       "<g id=\"node55\" class=\"node\">\r\n",
       "<title>54</title>\r\n",
       "<path fill=\"#399de5\" stroke=\"black\" d=\"M1604,-357.5C1604,-357.5 1526,-357.5 1526,-357.5 1520,-357.5 1514,-351.5 1514,-345.5 1514,-345.5 1514,-316.5 1514,-316.5 1514,-310.5 1520,-304.5 1526,-304.5 1526,-304.5 1604,-304.5 1604,-304.5 1610,-304.5 1616,-310.5 1616,-316.5 1616,-316.5 1616,-345.5 1616,-345.5 1616,-351.5 1610,-357.5 1604,-357.5\"/>\r\n",
       "<text text-anchor=\"start\" x=\"1537\" y=\"-342.3\" font-family=\"Helvetica,sans-Serif\" font-size=\"14.00\">gini = 0.0</text>\r\n",
       "<text text-anchor=\"start\" x=\"1524\" y=\"-327.3\" font-family=\"Helvetica,sans-Serif\" font-size=\"14.00\">samples = 10</text>\r\n",
       "<text text-anchor=\"start\" x=\"1522\" y=\"-312.3\" font-family=\"Helvetica,sans-Serif\" font-size=\"14.00\">value = [0, 10]</text>\r\n",
       "</g>\r\n",
       "<!-- 50&#45;&gt;54 -->\r\n",
       "<g id=\"edge54\" class=\"edge\">\r\n",
       "<title>50&#45;&gt;54</title>\r\n",
       "<path fill=\"none\" stroke=\"black\" d=\"M1485.99,-400.88C1499.48,-389.12 1514.65,-375.89 1528.06,-364.2\"/>\r\n",
       "<polygon fill=\"black\" stroke=\"black\" points=\"1530.49,-366.73 1535.73,-357.52 1525.89,-361.45 1530.49,-366.73\"/>\r\n",
       "</g>\r\n",
       "<!-- 52 -->\r\n",
       "<g id=\"node53\" class=\"node\">\r\n",
       "<title>52</title>\r\n",
       "<path fill=\"#399de5\" stroke=\"black\" d=\"M1483.5,-253.5C1483.5,-253.5 1412.5,-253.5 1412.5,-253.5 1406.5,-253.5 1400.5,-247.5 1400.5,-241.5 1400.5,-241.5 1400.5,-212.5 1400.5,-212.5 1400.5,-206.5 1406.5,-200.5 1412.5,-200.5 1412.5,-200.5 1483.5,-200.5 1483.5,-200.5 1489.5,-200.5 1495.5,-206.5 1495.5,-212.5 1495.5,-212.5 1495.5,-241.5 1495.5,-241.5 1495.5,-247.5 1489.5,-253.5 1483.5,-253.5\"/>\r\n",
       "<text text-anchor=\"start\" x=\"1420\" y=\"-238.3\" font-family=\"Helvetica,sans-Serif\" font-size=\"14.00\">gini = 0.0</text>\r\n",
       "<text text-anchor=\"start\" x=\"1410.5\" y=\"-223.3\" font-family=\"Helvetica,sans-Serif\" font-size=\"14.00\">samples = 4</text>\r\n",
       "<text text-anchor=\"start\" x=\"1408.5\" y=\"-208.3\" font-family=\"Helvetica,sans-Serif\" font-size=\"14.00\">value = [0, 4]</text>\r\n",
       "</g>\r\n",
       "<!-- 51&#45;&gt;52 -->\r\n",
       "<g id=\"edge52\" class=\"edge\">\r\n",
       "<title>51&#45;&gt;52</title>\r\n",
       "<path fill=\"none\" stroke=\"black\" d=\"M1448,-296.88C1448,-286.33 1448,-274.6 1448,-263.85\"/>\r\n",
       "<polygon fill=\"black\" stroke=\"black\" points=\"1451.5,-263.52 1448,-253.52 1444.5,-263.52 1451.5,-263.52\"/>\r\n",
       "</g>\r\n",
       "<!-- 53 -->\r\n",
       "<g id=\"node54\" class=\"node\">\r\n",
       "<title>53</title>\r\n",
       "<path fill=\"#e58139\" stroke=\"black\" d=\"M1596.5,-253.5C1596.5,-253.5 1525.5,-253.5 1525.5,-253.5 1519.5,-253.5 1513.5,-247.5 1513.5,-241.5 1513.5,-241.5 1513.5,-212.5 1513.5,-212.5 1513.5,-206.5 1519.5,-200.5 1525.5,-200.5 1525.5,-200.5 1596.5,-200.5 1596.5,-200.5 1602.5,-200.5 1608.5,-206.5 1608.5,-212.5 1608.5,-212.5 1608.5,-241.5 1608.5,-241.5 1608.5,-247.5 1602.5,-253.5 1596.5,-253.5\"/>\r\n",
       "<text text-anchor=\"start\" x=\"1533\" y=\"-238.3\" font-family=\"Helvetica,sans-Serif\" font-size=\"14.00\">gini = 0.0</text>\r\n",
       "<text text-anchor=\"start\" x=\"1523.5\" y=\"-223.3\" font-family=\"Helvetica,sans-Serif\" font-size=\"14.00\">samples = 3</text>\r\n",
       "<text text-anchor=\"start\" x=\"1521.5\" y=\"-208.3\" font-family=\"Helvetica,sans-Serif\" font-size=\"14.00\">value = [3, 0]</text>\r\n",
       "</g>\r\n",
       "<!-- 51&#45;&gt;53 -->\r\n",
       "<g id=\"edge53\" class=\"edge\">\r\n",
       "<title>51&#45;&gt;53</title>\r\n",
       "<path fill=\"none\" stroke=\"black\" d=\"M1484.69,-296.88C1497.6,-285.23 1512.1,-272.14 1524.96,-260.53\"/>\r\n",
       "<polygon fill=\"black\" stroke=\"black\" points=\"1527.65,-262.82 1532.73,-253.52 1522.96,-257.62 1527.65,-262.82\"/>\r\n",
       "</g>\r\n",
       "</g>\r\n",
       "</svg>\r\n"
      ],
      "text/plain": [
       "<graphviz.files.Source at 0x1a56bd65748>"
      ]
     },
     "execution_count": 31,
     "metadata": {},
     "output_type": "execute_result"
    },
    {
     "data": {
      "image/png": "[encoded data removed]",
      "text/plain": [
       "<Figure size 1200x400 with 4 Axes>"
      ]
     },
     "metadata": {},
     "output_type": "display_data"
    }
   ],
   "source": [
    "dectree = DecisionTreeClassifier(max_depth = 7)  \n",
    "dectree.fit(X_train, y_train)                  \n",
    "\n",
    "y_train_pred_dt = dectree.predict(X_train)\n",
    "y_test_pred_dt = dectree.predict(X_test)\n",
    "\n",
    "# Check the Goodness of Fit (on Train Data)\n",
    "print(\"Goodness of Fit of Model \\tTrain Dataset\")\n",
    "print(\"Classification Accuracy \\t:\", dectree.score(X_train, y_train))\n",
    "print()\n",
    "\n",
    "# Check the Goodness of Fit (on Test Data)\n",
    "print(\"Goodness of Fit of Model \\tTest Dataset\")\n",
    "print(\"Classification Accuracy \\t:\", dectree.score(X_test, y_test))\n",
    "print()\n",
    "decscore=dectree.score(X_test, y_test)\n",
    "\n",
    "# Plot the Confusion Matrix for Train and Test\n",
    "f, axes = plt.subplots(1, 2, figsize=(12, 4))\n",
    "sns.heatmap(confusion_matrix(y_train, y_train_pred_dt),\n",
    "           annot = True, fmt=\".0f\", annot_kws={\"size\": 18}, ax = axes[0])\n",
    "sns.heatmap(confusion_matrix(y_test, y_test_pred_dt), \n",
    "           annot = True, fmt=\".0f\", annot_kws={\"size\": 18}, ax = axes[1])\n",
    "\n",
    "# Plot the Decision Tree\n",
    "treedot = export_graphviz(dectree,                                      # the model\n",
    "                          feature_names = X_train.columns,              # the features \n",
    "                          out_file = None,                              # output file\n",
    "                          filled = True,                                # node colors\n",
    "                          rounded = True,                               # make pretty\n",
    "                          special_characters = True)                    # postscript\n",
    "\n",
    "graphviz.Source(treedot)"
   ]
  },
  {
   "cell_type": "markdown",
   "id": "91078125",
   "metadata": {},
   "source": [
    "## Logistic Regression"
   ]
  },
  {
   "cell_type": "code",
   "execution_count": 36,
   "id": "30aed481",
   "metadata": {},
   "outputs": [
    {
     "name": "stderr",
     "output_type": "stream",
     "text": [
      "C:\\Users\\Kirubha\\Anaconda3\\lib\\site-packages\\sklearn\\utils\\validation.py:993: DataConversionWarning: A column-vector y was passed when a 1d array was expected. Please change the shape of y to (n_samples, ), for example using ravel().\n",
      "  y = column_or_1d(y, warn=True)\n",
      "C:\\Users\\Kirubha\\Anaconda3\\lib\\site-packages\\sklearn\\utils\\validation.py:993: DataConversionWarning: A column-vector y was passed when a 1d array was expected. Please change the shape of y to (n_samples, ), for example using ravel().\n",
      "  y = column_or_1d(y, warn=True)\n",
      "C:\\Users\\Kirubha\\Anaconda3\\lib\\site-packages\\sklearn\\utils\\validation.py:993: DataConversionWarning: A column-vector y was passed when a 1d array was expected. Please change the shape of y to (n_samples, ), for example using ravel().\n",
      "  y = column_or_1d(y, warn=True)\n",
      "C:\\Users\\Kirubha\\Anaconda3\\lib\\site-packages\\sklearn\\utils\\validation.py:993: DataConversionWarning: A column-vector y was passed when a 1d array was expected. Please change the shape of y to (n_samples, ), for example using ravel().\n",
      "  y = column_or_1d(y, warn=True)\n",
      "C:\\Users\\Kirubha\\Anaconda3\\lib\\site-packages\\sklearn\\utils\\validation.py:993: DataConversionWarning: A column-vector y was passed when a 1d array was expected. Please change the shape of y to (n_samples, ), for example using ravel().\n",
      "  y = column_or_1d(y, warn=True)\n",
      "C:\\Users\\Kirubha\\Anaconda3\\lib\\site-packages\\sklearn\\utils\\validation.py:993: DataConversionWarning: A column-vector y was passed when a 1d array was expected. Please change the shape of y to (n_samples, ), for example using ravel().\n",
      "  y = column_or_1d(y, warn=True)\n",
      "C:\\Users\\Kirubha\\Anaconda3\\lib\\site-packages\\sklearn\\utils\\validation.py:993: DataConversionWarning: A column-vector y was passed when a 1d array was expected. Please change the shape of y to (n_samples, ), for example using ravel().\n",
      "  y = column_or_1d(y, warn=True)\n",
      "C:\\Users\\Kirubha\\Anaconda3\\lib\\site-packages\\sklearn\\utils\\validation.py:993: DataConversionWarning: A column-vector y was passed when a 1d array was expected. Please change the shape of y to (n_samples, ), for example using ravel().\n",
      "  y = column_or_1d(y, warn=True)\n",
      "C:\\Users\\Kirubha\\Anaconda3\\lib\\site-packages\\sklearn\\linear_model\\_logistic.py:818: ConvergenceWarning: lbfgs failed to converge (status=1):\n",
      "STOP: TOTAL NO. of ITERATIONS REACHED LIMIT.\n",
      "\n",
      "Increase the number of iterations (max_iter) or scale the data as shown in:\n",
      "    https://scikit-learn.org/stable/modules/preprocessing.html\n",
      "Please also refer to the documentation for alternative solver options:\n",
      "    https://scikit-learn.org/stable/modules/linear_model.html#logistic-regression\n",
      "  extra_warning_msg=_LOGISTIC_SOLVER_CONVERGENCE_MSG,\n",
      "C:\\Users\\Kirubha\\Anaconda3\\lib\\site-packages\\sklearn\\utils\\validation.py:993: DataConversionWarning: A column-vector y was passed when a 1d array was expected. Please change the shape of y to (n_samples, ), for example using ravel().\n",
      "  y = column_or_1d(y, warn=True)\n",
      "C:\\Users\\Kirubha\\Anaconda3\\lib\\site-packages\\sklearn\\utils\\validation.py:993: DataConversionWarning: A column-vector y was passed when a 1d array was expected. Please change the shape of y to (n_samples, ), for example using ravel().\n",
      "  y = column_or_1d(y, warn=True)\n"
     ]
    },
    {
     "name": "stdout",
     "output_type": "stream",
     "text": [
      "{'C': 1, 'penalty': 'l2'}\n"
     ]
    },
    {
     "name": "stderr",
     "output_type": "stream",
     "text": [
      "C:\\Users\\Kirubha\\Anaconda3\\lib\\site-packages\\sklearn\\utils\\validation.py:993: DataConversionWarning: A column-vector y was passed when a 1d array was expected. Please change the shape of y to (n_samples, ), for example using ravel().\n",
      "  y = column_or_1d(y, warn=True)\n",
      "C:\\Users\\Kirubha\\Anaconda3\\lib\\site-packages\\sklearn\\linear_model\\_logistic.py:818: ConvergenceWarning: lbfgs failed to converge (status=1):\n",
      "STOP: TOTAL NO. of ITERATIONS REACHED LIMIT.\n",
      "\n",
      "Increase the number of iterations (max_iter) or scale the data as shown in:\n",
      "    https://scikit-learn.org/stable/modules/preprocessing.html\n",
      "Please also refer to the documentation for alternative solver options:\n",
      "    https://scikit-learn.org/stable/modules/linear_model.html#logistic-regression\n",
      "  extra_warning_msg=_LOGISTIC_SOLVER_CONVERGENCE_MSG,\n",
      "C:\\Users\\Kirubha\\Anaconda3\\lib\\site-packages\\sklearn\\utils\\validation.py:993: DataConversionWarning: A column-vector y was passed when a 1d array was expected. Please change the shape of y to (n_samples, ), for example using ravel().\n",
      "  y = column_or_1d(y, warn=True)\n",
      "C:\\Users\\Kirubha\\Anaconda3\\lib\\site-packages\\sklearn\\utils\\validation.py:993: DataConversionWarning: A column-vector y was passed when a 1d array was expected. Please change the shape of y to (n_samples, ), for example using ravel().\n",
      "  y = column_or_1d(y, warn=True)\n",
      "C:\\Users\\Kirubha\\Anaconda3\\lib\\site-packages\\sklearn\\utils\\validation.py:993: DataConversionWarning: A column-vector y was passed when a 1d array was expected. Please change the shape of y to (n_samples, ), for example using ravel().\n",
      "  y = column_or_1d(y, warn=True)\n",
      "C:\\Users\\Kirubha\\Anaconda3\\lib\\site-packages\\sklearn\\utils\\validation.py:993: DataConversionWarning: A column-vector y was passed when a 1d array was expected. Please change the shape of y to (n_samples, ), for example using ravel().\n",
      "  y = column_or_1d(y, warn=True)\n",
      "C:\\Users\\Kirubha\\Anaconda3\\lib\\site-packages\\sklearn\\model_selection\\_validation.py:372: FitFailedWarning: \n",
      "45 fits failed out of a total of 60.\n",
      "The score on these train-test partitions for these parameters will be set to nan.\n",
      "If these failures are not expected, you can try to debug them by setting error_score='raise'.\n",
      "\n",
      "Below are more details about the failures:\n",
      "--------------------------------------------------------------------------------\n",
      "15 fits failed with the following error:\n",
      "Traceback (most recent call last):\n",
      "  File \"C:\\Users\\Kirubha\\Anaconda3\\lib\\site-packages\\sklearn\\model_selection\\_validation.py\", line 680, in _fit_and_score\n",
      "    estimator.fit(X_train, y_train, **fit_params)\n",
      "  File \"C:\\Users\\Kirubha\\Anaconda3\\lib\\site-packages\\sklearn\\linear_model\\_logistic.py\", line 1461, in fit\n",
      "    solver = _check_solver(self.solver, self.penalty, self.dual)\n",
      "  File \"C:\\Users\\Kirubha\\Anaconda3\\lib\\site-packages\\sklearn\\linear_model\\_logistic.py\", line 449, in _check_solver\n",
      "    % (solver, penalty)\n",
      "ValueError: Solver lbfgs supports only 'l2' or 'none' penalties, got l1 penalty.\n",
      "\n",
      "--------------------------------------------------------------------------------\n",
      "15 fits failed with the following error:\n",
      "Traceback (most recent call last):\n",
      "  File \"C:\\Users\\Kirubha\\Anaconda3\\lib\\site-packages\\sklearn\\model_selection\\_validation.py\", line 680, in _fit_and_score\n",
      "    estimator.fit(X_train, y_train, **fit_params)\n",
      "  File \"C:\\Users\\Kirubha\\Anaconda3\\lib\\site-packages\\sklearn\\linear_model\\_logistic.py\", line 1461, in fit\n",
      "    solver = _check_solver(self.solver, self.penalty, self.dual)\n",
      "  File \"C:\\Users\\Kirubha\\Anaconda3\\lib\\site-packages\\sklearn\\linear_model\\_logistic.py\", line 449, in _check_solver\n",
      "    % (solver, penalty)\n",
      "ValueError: Solver lbfgs supports only 'l2' or 'none' penalties, got elasticnet penalty.\n",
      "\n",
      "--------------------------------------------------------------------------------\n",
      "15 fits failed with the following error:\n",
      "Traceback (most recent call last):\n",
      "  File \"C:\\Users\\Kirubha\\Anaconda3\\lib\\site-packages\\sklearn\\model_selection\\_validation.py\", line 680, in _fit_and_score\n",
      "    estimator.fit(X_train, y_train, **fit_params)\n",
      "  File \"C:\\Users\\Kirubha\\Anaconda3\\lib\\site-packages\\sklearn\\linear_model\\_logistic.py\", line 1461, in fit\n",
      "    solver = _check_solver(self.solver, self.penalty, self.dual)\n",
      "  File \"C:\\Users\\Kirubha\\Anaconda3\\lib\\site-packages\\sklearn\\linear_model\\_logistic.py\", line 443, in _check_solver\n",
      "    % (all_penalties, penalty)\n",
      "ValueError: Logistic Regression supports only penalties in ['l1', 'l2', 'elasticnet', 'none'], got None.\n",
      "\n",
      "  warnings.warn(some_fits_failed_message, FitFailedWarning)\n",
      "C:\\Users\\Kirubha\\Anaconda3\\lib\\site-packages\\sklearn\\model_selection\\_search.py:972: UserWarning: One or more of the test scores are non-finite: [       nan 0.64166667        nan        nan        nan 0.70416667\n",
      "        nan        nan        nan 0.74166667        nan        nan]\n",
      "  category=UserWarning,\n",
      "C:\\Users\\Kirubha\\Anaconda3\\lib\\site-packages\\sklearn\\utils\\validation.py:993: DataConversionWarning: A column-vector y was passed when a 1d array was expected. Please change the shape of y to (n_samples, ), for example using ravel().\n",
      "  y = column_or_1d(y, warn=True)\n",
      "C:\\Users\\Kirubha\\Anaconda3\\lib\\site-packages\\sklearn\\linear_model\\_logistic.py:818: ConvergenceWarning: lbfgs failed to converge (status=1):\n",
      "STOP: TOTAL NO. of ITERATIONS REACHED LIMIT.\n",
      "\n",
      "Increase the number of iterations (max_iter) or scale the data as shown in:\n",
      "    https://scikit-learn.org/stable/modules/preprocessing.html\n",
      "Please also refer to the documentation for alternative solver options:\n",
      "    https://scikit-learn.org/stable/modules/linear_model.html#logistic-regression\n",
      "  extra_warning_msg=_LOGISTIC_SOLVER_CONVERGENCE_MSG,\n"
     ]
    }
   ],
   "source": [
    "#Search for best params using grid search function\n",
    "\n",
    "lr = LogisticRegression()\n",
    "param_grid = {'penalty': ['l1','l2','elasticnet',None],'C': [0.01, 0.1, 1]}\n",
    "grid_search = GridSearchCV(lr, param_grid, cv=5)\n",
    "grid_search.fit(X_train, y_train)\n",
    "best_params = grid_search.best_params_\n",
    "print(best_params) #{'C': 1, 'penalty': 'l2'} -- all default values"
   ]
  },
  {
   "cell_type": "code",
   "execution_count": 37,
   "id": "5fa5ee43",
   "metadata": {},
   "outputs": [
    {
     "name": "stderr",
     "output_type": "stream",
     "text": [
      "C:\\Users\\Kirubha\\Anaconda3\\lib\\site-packages\\sklearn\\utils\\validation.py:993: DataConversionWarning: A column-vector y was passed when a 1d array was expected. Please change the shape of y to (n_samples, ), for example using ravel().\n",
      "  y = column_or_1d(y, warn=True)\n",
      "C:\\Users\\Kirubha\\Anaconda3\\lib\\site-packages\\sklearn\\linear_model\\_logistic.py:818: ConvergenceWarning: lbfgs failed to converge (status=1):\n",
      "STOP: TOTAL NO. of ITERATIONS REACHED LIMIT.\n",
      "\n",
      "Increase the number of iterations (max_iter) or scale the data as shown in:\n",
      "    https://scikit-learn.org/stable/modules/preprocessing.html\n",
      "Please also refer to the documentation for alternative solver options:\n",
      "    https://scikit-learn.org/stable/modules/linear_model.html#logistic-regression\n",
      "  extra_warning_msg=_LOGISTIC_SOLVER_CONVERGENCE_MSG,\n"
     ]
    },
    {
     "name": "stdout",
     "output_type": "stream",
     "text": [
      "Goodness of Fit of Model \tTrain Dataset\n",
      "Classification Accuracy \t: 0.7458333333333333\n",
      "\n",
      "Goodness of Fit of Model \tTest Dataset\n",
      "Classification Accuracy \t: 0.6125\n",
      "\n"
     ]
    },
    {
     "data": {
      "text/plain": [
       "<AxesSubplot:>"
      ]
     },
     "execution_count": 37,
     "metadata": {},
     "output_type": "execute_result"
    },
    {
     "data": {
      "image/png": "[encoded data removed]",
      "text/plain": [
       "<Figure size 1200x400 with 4 Axes>"
      ]
     },
     "metadata": {},
     "output_type": "display_data"
    }
   ],
   "source": [
    "lr = LogisticRegression()\n",
    "lr.fit(X_train, y_train.values)\n",
    "\n",
    "y_train_pred_lr = lr.predict(X_train)\n",
    "y_test_pred_lr = lr.predict(X_test)\n",
    "\n",
    "# Check the Goodness of Fit (on Train Data)\n",
    "print(\"Goodness of Fit of Model \\tTrain Dataset\")\n",
    "print(\"Classification Accuracy \\t:\", lr.score(X_train, y_train))\n",
    "print()\n",
    "\n",
    "# Check the Goodness of Fit (on Test Data)\n",
    "print(\"Goodness of Fit of Model \\tTest Dataset\")\n",
    "print(\"Classification Accuracy \\t:\", lr.score(X_test, y_test))\n",
    "print()\n",
    "\n",
    "lrscore = lr.score(X_test, y_test)\n",
    "\n",
    "#Plot the Confusion Matrix for Train and Test\n",
    "f, axes = plt.subplots(1, 2, figsize=(12, 4))\n",
    "sns.heatmap(confusion_matrix(y_train, y_train_pred_lr),\n",
    "           annot = True, fmt=\".0f\", annot_kws={\"size\": 18}, ax = axes[0])\n",
    "sns.heatmap(confusion_matrix(y_test, y_test_pred_lr), \n",
    "           annot = True, fmt=\".0f\", annot_kws={\"size\": 18}, ax = axes[1])"
   ]
  },
  {
   "cell_type": "markdown",
   "id": "1562498f",
   "metadata": {},
   "source": [
    "## Performance Comparison"
   ]
  },
  {
   "cell_type": "code",
   "execution_count": 38,
   "id": "cd7b6068",
   "metadata": {},
   "outputs": [
    {
     "name": "stdout",
     "output_type": "stream",
     "text": [
      "****************************************************************************************************\n",
      "Model Summary:\n",
      "\n",
      "****************************************************************************************************\n",
      "Decision Tree:\n",
      "Accuracy: 0.85 Precision: 0.8214285714285714 Recall: 0.7666666666666667 F1-score: 0.793103448275862\n",
      "\n",
      "\n",
      "Random Forest:\n",
      "Accuracy: 0.925 Precision: 0.9615384615384616 Recall: 0.8333333333333334 F1-score: 0.8928571428571429\n",
      "\n",
      "\n",
      "Logistic Regression:\n",
      "Accuracy: 0.6125 Precision: 0.4878048780487805 Recall: 0.6666666666666666 F1-score: 0.5633802816901409\n",
      "\n",
      "\n",
      "****************************************************************************************************\n"
     ]
    }
   ],
   "source": [
    "lr_acc = accuracy_score(y_test, y_test_pred_lr)\n",
    "dt_acc = accuracy_score(y_test, y_test_pred_dt)\n",
    "rf_acc = accuracy_score(y_test, y_test_pred_rf)\n",
    "\n",
    "lr_prec = precision_score(y_test, y_test_pred_lr)\n",
    "dt_prec = precision_score(y_test, y_test_pred_dt)\n",
    "rf_prec = precision_score(y_test, y_test_pred_rf)\n",
    "\n",
    "lr_recall = recall_score(y_test, y_test_pred_lr)\n",
    "dt_recall = recall_score(y_test, y_test_pred_dt)\n",
    "rf_recall = recall_score(y_test, y_test_pred_rf)\n",
    "\n",
    "lr_f1 = f1_score(y_test, y_test_pred_lr)\n",
    "dt_f1 = f1_score(y_test, y_test_pred_dt)\n",
    "rf_f1 = f1_score(y_test, y_test_pred_rf)\n",
    "\n",
    "accuracies = [dt_acc,rf_acc,lr_acc]\n",
    "precisions = [dt_prec,rf_prec,lr_prec]\n",
    "recalls = [dt_recall,rf_recall,lr_recall]\n",
    "f1_scores = [dt_f1,rf_f1,lr_f1]\n",
    "models = ['Decision Tree','Random Forest','Logistic Regression']\n",
    "\n",
    "print('*'*100)\n",
    "print('Model Summary:\\n')\n",
    "print('*'*100)\n",
    "for i in range(len(models)):\n",
    "    print(models[i]+':')\n",
    "    print(\"Accuracy:\", accuracies[i], \"Precision:\", precisions[i], \"Recall:\", recalls[i], \"F1-score:\", f1_scores[i])\n",
    "    print('\\n')\n",
    "print('*'*100)"
   ]
  },
  {
   "cell_type": "code",
   "execution_count": 39,
   "id": "0944293c",
   "metadata": {
    "scrolled": false
   },
   "outputs": [
    {
     "data": {
      "text/plain": [
       "<AxesSubplot:xlabel='Model', ylabel='Score'>"
      ]
     },
     "execution_count": 39,
     "metadata": {},
     "output_type": "execute_result"
    },
    {
     "data": {
      "image/png": "[encoded data removed]",
      "text/plain": [
       "<Figure size 640x480 with 1 Axes>"
      ]
     },
     "metadata": {},
     "output_type": "display_data"
    }
   ],
   "source": [
    "#plot acc + F1 \n",
    "data = pd.DataFrame(\n",
    "    {'Model': models,\n",
    "     'Test Accuracy': accuracies,\n",
    "     'F1 Score': f1_scores\n",
    "    })\n",
    "sns.lineplot(x='Model', y='Score', hue='Metric', markers=True,style=\"Metric\",dashes=False,\n",
    "             data=pd.melt(data, ['Model'],var_name='Metric', value_name='Score'))"
   ]
  },
  {
   "cell_type": "markdown",
   "id": "31b98b54",
   "metadata": {},
   "source": [
    "The best model in terms of F1 score and accuracy on test set is Random Forest. Thus, it is the best performing model for this dataset. The most important features are Systolic Blood Pressure and Pulse Rate."
   ]
  }
 ],
 "metadata": {
  "kernelspec": {
   "display_name": "Python 3 (ipykernel)",
   "language": "python",
   "name": "python3"
  },
  "language_info": {
   "codemirror_mode": {
    "name": "ipython",
    "version": 3
   },
   "file_extension": ".py",
   "mimetype": "text/x-python",
   "name": "python",
   "nbconvert_exporter": "python",
   "pygments_lexer": "ipython3",
   "version": "3.7.4"
  }
 },
 "nbformat": 4,
 "nbformat_minor": 5
}
